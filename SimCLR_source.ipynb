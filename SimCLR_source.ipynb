{
  "cells": [
    {
      "cell_type": "markdown",
      "metadata": {
        "colab_type": "text",
        "id": "-Z-QxFAEGdhQ"
      },
      "source": [
        "# SimCLR\n",
        "THIS IS A COLAB VERSION OF MY BLOGPOST\n",
        "\n",
        "https://zablo.net/blog/post/understanding-implementing-simclr-guide-eli5-pytorch/\n",
        "\n",
        "---\n",
        "---\n",
        "---"
      ]
    },
    {
      "cell_type": "markdown",
      "metadata": {
        "colab_type": "text",
        "id": "NgIgle3ZGY7u"
      },
      "source": [
        "Transfer learning and pre-training schemas for both NLP and Computer Vision have gained a lot of attention in the last months. Research showed that carefully designed unsupervised/self-supervised training can produce high quality base models and embeddings that greatly decrease the amount of data needed to obtain good classfication models downstream. This approach becomes more and more important as the companies collect a lot of data from which only fraction can be labelled by human - either due to large cost of labelling process or due to some time constraints.\n",
        "\n",
        "Here I explore SimCLR pre-training framework proposed by Google in <a href=\"/links/simclr-arxiv-2002.05709/?utm_source=blog&utm_medium=link&utm_campaign=external_links&utm_content=SimCLR-arxiv\" target=\"blank\">this arxiv paper</a>. I will explain the SimCLR and its contrastive loss function step by step, starting from naive implementation followed by faster, vectorized one. Then I will show how to use SimCLR's pretraining routine to first build image embeddings using EfficientNet network architecture and finally I will show how to build classifier on top of it.\n",
        "\n",
        "## TL;DR\n",
        "This post covers:\n",
        "* understanding the SimCLR framework\n",
        "* from scratch explanation & implementation of SimCLR's loss function (NT-Xent) in PyTorch\n",
        "* pre-training image embeddings using EfficientNet architecture\n",
        "* training classifier by using transfer learning from the pre-trained embeddings"
      ]
    },
    {
      "cell_type": "markdown",
      "metadata": {
        "colab_type": "text",
        "id": "weeaWOYnGY7v"
      },
      "source": [
        "## Understanding SimCLR framework\n",
        "In general, SimCLR is <i>a simple framework for contrastive learning of visual representations</i>. It's not any new framework for deep learning, it's a set of fixed steps that one should to follow in order to train image embeddings of good quality.\n",
        "I drew a schema which explains the flow and the whole representation learning process."
      ]
    },
    {
      "cell_type": "markdown",
      "metadata": {
        "colab_type": "text",
        "id": "n7zDz74LGY7w"
      },
      "source": [
        "<img src=\"simclr-schema.png\"/>"
      ]
    },
    {
      "cell_type": "markdown",
      "metadata": {
        "colab_type": "text",
        "id": "imA2CU2MGY7w"
      },
      "source": [
        "The flow is as follows (from left to right):\n",
        "1. Take an input image\n",
        "2. Prepare 2 random augumentations on the image, including: rotations, hue/saturation/brightness changes, zooming, cropping, etc. The range of augumentations as well as analysis which ones works best are discussed in details in the parper.\n",
        "1. Run deep neural network (preferably convolutional one, like ResNet50) to obtain image representations (embeddings) for those augumented images.\n",
        "1. Run small fully connected linear neural network to project embeddings into another vector space.\n",
        "1. Calculate contrastive loss and run backpropagation throught both networks. Contrastive loss decreases when projections coming from the same image are similar. The similarity between projections can be arbitrary, here I will use cosine similarity, same as in the paper."
      ]
    },
    {
      "cell_type": "markdown",
      "metadata": {
        "colab_type": "text",
        "id": "B4H_1kbWGY7x"
      },
      "source": [
        "## Contrastive loss function\n",
        "### Theory behind constrastive loss function\n",
        "One can reason about contrastive loss function form two angles:\n",
        "1. Contrastive loss decreases when projections of augumented images coming from the same input image are similar.\n",
        "1. For two augumented images: (i), (j) (coming from the same input image - I will call them \"positive\" pair later on), the constrative loss for (i) tries to identify (j) among other images (\"negative\" examples) that are in the same batch .\n",
        "\n",
        "Formal definition of the loss for pair of positive exmaples (i) and (j) defined as:\n",
        "<img src=\"contrastive-loss-lij.png\"/>\n",
        "\n",
        "The final loss is an arithmetic mean of the losses for all positive pairs in the batch:\n",
        "<img src=\"contrastive-loss-sum.png\"/>\n",
        "(keep in mind that the indexing in <i>l(2k-1, 2k) + l(2k, 2k-1)</i> is purely dependand on how you implement the loss - I find it easier to understand when I reason about them as <i>l(i,j) + l(j,i)</i>)."
      ]
    },
    {
      "cell_type": "markdown",
      "metadata": {
        "colab_type": "text",
        "id": "rUbq1ShUGY7x"
      },
      "source": [
        "### Contrastive loss function - implementation in PyTorch, ELI5 version\n",
        "It's much easier to implement the loss function without vectorization first and then follow up with the vectorization phase."
      ]
    },
    {
      "cell_type": "code",
      "execution_count": 1,
      "metadata": {
        "colab": {
          "base_uri": "https://localhost:8080/",
          "height": 1000
        },
        "colab_type": "code",
        "id": "mWSdMw3MRHXH",
        "outputId": "eb2f750e-5fd4-4d9a-90e6-7a4e4d4ad1d4"
      },
      "outputs": [
        {
          "name": "stdout",
          "output_type": "stream",
          "text": [
            "Requirement already satisfied: efficientnet_pytorch in /opt/conda/lib/python3.7/site-packages (0.7.1)\n",
            "Requirement already satisfied: pytorch-lightning in /opt/conda/lib/python3.7/site-packages (1.6.1)\n",
            "Requirement already satisfied: torch in /opt/conda/lib/python3.7/site-packages (from efficientnet_pytorch) (1.9.0)\n",
            "Requirement already satisfied: tqdm>=4.41.0 in /opt/conda/lib/python3.7/site-packages (from pytorch-lightning) (4.62.3)\n",
            "Requirement already satisfied: typing-extensions>=4.0.0 in /opt/conda/lib/python3.7/site-packages (from pytorch-lightning) (4.2.0)\n",
            "Requirement already satisfied: packaging>=17.0 in /opt/conda/lib/python3.7/site-packages (from pytorch-lightning) (21.0)\n",
            "Requirement already satisfied: numpy>=1.17.2 in /opt/conda/lib/python3.7/site-packages (from pytorch-lightning) (1.19.5)\n",
            "Requirement already satisfied: pyDeprecate<0.4.0,>=0.3.1 in /opt/conda/lib/python3.7/site-packages (from pytorch-lightning) (0.3.2)\n",
            "Requirement already satisfied: PyYAML>=5.4 in /opt/conda/lib/python3.7/site-packages (from pytorch-lightning) (5.4.1)\n",
            "Requirement already satisfied: torchmetrics>=0.4.1 in /opt/conda/lib/python3.7/site-packages (from pytorch-lightning) (0.8.0)\n",
            "Requirement already satisfied: tensorboard>=2.2.0 in /opt/conda/lib/python3.7/site-packages (from pytorch-lightning) (2.8.0)\n",
            "Requirement already satisfied: fsspec[http]!=2021.06.0,>=2021.05.0 in /opt/conda/lib/python3.7/site-packages (from pytorch-lightning) (2021.8.1)\n",
            "Requirement already satisfied: requests in /opt/conda/lib/python3.7/site-packages (from fsspec[http]!=2021.06.0,>=2021.05.0->pytorch-lightning) (2.25.1)\n",
            "Requirement already satisfied: aiohttp in /opt/conda/lib/python3.7/site-packages (from fsspec[http]!=2021.06.0,>=2021.05.0->pytorch-lightning) (3.7.4.post0)\n",
            "Requirement already satisfied: pyparsing>=2.0.2 in /opt/conda/lib/python3.7/site-packages (from packaging>=17.0->pytorch-lightning) (2.4.7)\n",
            "Requirement already satisfied: markdown>=2.6.8 in /opt/conda/lib/python3.7/site-packages (from tensorboard>=2.2.0->pytorch-lightning) (3.3.4)\n",
            "Requirement already satisfied: werkzeug>=0.11.15 in /opt/conda/lib/python3.7/site-packages (from tensorboard>=2.2.0->pytorch-lightning) (2.1.1)\n",
            "Requirement already satisfied: wheel>=0.26 in /opt/conda/lib/python3.7/site-packages (from tensorboard>=2.2.0->pytorch-lightning) (0.37.0)\n",
            "Requirement already satisfied: tensorboard-plugin-wit>=1.6.0 in /opt/conda/lib/python3.7/site-packages (from tensorboard>=2.2.0->pytorch-lightning) (1.8.1)\n",
            "Requirement already satisfied: tensorboard-data-server<0.7.0,>=0.6.0 in /opt/conda/lib/python3.7/site-packages (from tensorboard>=2.2.0->pytorch-lightning) (0.6.1)\n",
            "Requirement already satisfied: setuptools>=41.0.0 in /opt/conda/lib/python3.7/site-packages (from tensorboard>=2.2.0->pytorch-lightning) (58.0.4)\n",
            "Requirement already satisfied: grpcio>=1.24.3 in /opt/conda/lib/python3.7/site-packages (from tensorboard>=2.2.0->pytorch-lightning) (1.38.1)\n",
            "Requirement already satisfied: protobuf>=3.6.0 in /opt/conda/lib/python3.7/site-packages (from tensorboard>=2.2.0->pytorch-lightning) (3.18.0)\n",
            "Requirement already satisfied: google-auth<3,>=1.6.3 in /opt/conda/lib/python3.7/site-packages (from tensorboard>=2.2.0->pytorch-lightning) (1.35.0)\n",
            "Requirement already satisfied: absl-py>=0.4 in /opt/conda/lib/python3.7/site-packages (from tensorboard>=2.2.0->pytorch-lightning) (1.0.0)\n",
            "Requirement already satisfied: google-auth-oauthlib<0.5,>=0.4.1 in /opt/conda/lib/python3.7/site-packages (from tensorboard>=2.2.0->pytorch-lightning) (0.4.6)\n",
            "Requirement already satisfied: six in /opt/conda/lib/python3.7/site-packages (from absl-py>=0.4->tensorboard>=2.2.0->pytorch-lightning) (1.16.0)\n",
            "Requirement already satisfied: rsa<5,>=3.1.4 in /opt/conda/lib/python3.7/site-packages (from google-auth<3,>=1.6.3->tensorboard>=2.2.0->pytorch-lightning) (4.7.2)\n",
            "Requirement already satisfied: pyasn1-modules>=0.2.1 in /opt/conda/lib/python3.7/site-packages (from google-auth<3,>=1.6.3->tensorboard>=2.2.0->pytorch-lightning) (0.2.7)\n",
            "Requirement already satisfied: cachetools<5.0,>=2.0.0 in /opt/conda/lib/python3.7/site-packages (from google-auth<3,>=1.6.3->tensorboard>=2.2.0->pytorch-lightning) (4.2.2)\n",
            "Requirement already satisfied: requests-oauthlib>=0.7.0 in /opt/conda/lib/python3.7/site-packages (from google-auth-oauthlib<0.5,>=0.4.1->tensorboard>=2.2.0->pytorch-lightning) (1.3.0)\n",
            "Requirement already satisfied: importlib-metadata in /opt/conda/lib/python3.7/site-packages (from markdown>=2.6.8->tensorboard>=2.2.0->pytorch-lightning) (4.8.1)\n",
            "Requirement already satisfied: pyasn1<0.5.0,>=0.4.6 in /opt/conda/lib/python3.7/site-packages (from pyasn1-modules>=0.2.1->google-auth<3,>=1.6.3->tensorboard>=2.2.0->pytorch-lightning) (0.4.8)\n",
            "Requirement already satisfied: idna<3,>=2.5 in /opt/conda/lib/python3.7/site-packages (from requests->fsspec[http]!=2021.06.0,>=2021.05.0->pytorch-lightning) (2.10)\n",
            "Requirement already satisfied: certifi>=2017.4.17 in /opt/conda/lib/python3.7/site-packages (from requests->fsspec[http]!=2021.06.0,>=2021.05.0->pytorch-lightning) (2021.10.8)\n",
            "Requirement already satisfied: urllib3<1.27,>=1.21.1 in /opt/conda/lib/python3.7/site-packages (from requests->fsspec[http]!=2021.06.0,>=2021.05.0->pytorch-lightning) (1.26.6)\n",
            "Requirement already satisfied: chardet<5,>=3.0.2 in /opt/conda/lib/python3.7/site-packages (from requests->fsspec[http]!=2021.06.0,>=2021.05.0->pytorch-lightning) (4.0.0)\n",
            "Requirement already satisfied: oauthlib>=3.0.0 in /opt/conda/lib/python3.7/site-packages (from requests-oauthlib>=0.7.0->google-auth-oauthlib<0.5,>=0.4.1->tensorboard>=2.2.0->pytorch-lightning) (3.1.1)\n",
            "Requirement already satisfied: async-timeout<4.0,>=3.0 in /opt/conda/lib/python3.7/site-packages (from aiohttp->fsspec[http]!=2021.06.0,>=2021.05.0->pytorch-lightning) (3.0.1)\n",
            "Requirement already satisfied: attrs>=17.3.0 in /opt/conda/lib/python3.7/site-packages (from aiohttp->fsspec[http]!=2021.06.0,>=2021.05.0->pytorch-lightning) (21.2.0)\n",
            "Requirement already satisfied: yarl<2.0,>=1.0 in /opt/conda/lib/python3.7/site-packages (from aiohttp->fsspec[http]!=2021.06.0,>=2021.05.0->pytorch-lightning) (1.6.3)\n",
            "Requirement already satisfied: multidict<7.0,>=4.5 in /opt/conda/lib/python3.7/site-packages (from aiohttp->fsspec[http]!=2021.06.0,>=2021.05.0->pytorch-lightning) (5.1.0)\n",
            "Requirement already satisfied: zipp>=0.5 in /opt/conda/lib/python3.7/site-packages (from importlib-metadata->markdown>=2.6.8->tensorboard>=2.2.0->pytorch-lightning) (3.5.0)\n",
            "\u001b[33mWARNING: Running pip as the 'root' user can result in broken permissions and conflicting behaviour with the system package manager. It is recommended to use a virtual environment instead: https://pip.pypa.io/warnings/venv\u001b[0m\n"
          ]
        }
      ],
      "source": [
        "!pip install efficientnet_pytorch pytorch-lightning"
      ]
    },
    {
      "cell_type": "code",
      "execution_count": 2,
      "metadata": {
        "colab": {},
        "colab_type": "code",
        "id": "H2wMlyz0GY7y"
      },
      "outputs": [],
      "source": [
        "import torch\n",
        "from torch import nn\n",
        "import torch.nn.functional as F"
      ]
    },
    {
      "cell_type": "code",
      "execution_count": 3,
      "metadata": {
        "colab": {},
        "colab_type": "code",
        "id": "E4excQa6GY72"
      },
      "outputs": [],
      "source": [
        "class ContrastiveLossELI5(nn.Module):\n",
        "    def __init__(self, batch_size, temperature=0.5, verbose=True):\n",
        "        super().__init__()\n",
        "        self.batch_size = batch_size\n",
        "        self.register_buffer(\"temperature\", torch.tensor(temperature))\n",
        "        self.verbose = verbose\n",
        "            \n",
        "    def forward(self, emb_i, emb_j):\n",
        "        \"\"\"\n",
        "        emb_i and emb_j are batches of embeddings, where corresponding indices are pairs\n",
        "        z_i, z_j as per SimCLR paper\n",
        "        \"\"\"\n",
        "        z_i = F.normalize(emb_i, dim=1)\n",
        "        z_j = F.normalize(emb_j, dim=1)\n",
        "\n",
        "        representations = torch.cat([z_i, z_j], dim=0)\n",
        "        similarity_matrix = F.cosine_similarity(representations.unsqueeze(1), representations.unsqueeze(0), dim=2)\n",
        "        if self.verbose: print(\"Similarity matrix\\n\", similarity_matrix, \"\\n\")\n",
        "            \n",
        "        def l_ij(i, j):\n",
        "            z_i_, z_j_ = representations[i], representations[j]\n",
        "            sim_i_j = similarity_matrix[i, j]\n",
        "            if self.verbose: print(f\"sim({i}, {j})={sim_i_j}\")\n",
        "                \n",
        "            numerator = torch.exp(sim_i_j / self.temperature)\n",
        "            one_for_not_i = torch.ones((2 * self.batch_size, )).to(emb_i.device).scatter_(0, torch.tensor([i]), 0.0)\n",
        "            if self.verbose: print(f\"1{{k!={i}}}\",one_for_not_i)\n",
        "            \n",
        "            denominator = torch.sum(\n",
        "                one_for_not_i * torch.exp(similarity_matrix[i, :] / self.temperature)\n",
        "            )    \n",
        "            if self.verbose: print(\"Denominator\", denominator)\n",
        "                \n",
        "            loss_ij = -torch.log(numerator / denominator)\n",
        "            if self.verbose: print(f\"loss({i},{j})={loss_ij}\\n\")\n",
        "                \n",
        "            return loss_ij.squeeze(0)\n",
        "\n",
        "        N = self.batch_size\n",
        "        loss = 0.0\n",
        "        for k in range(0, N):\n",
        "            loss += l_ij(k, k + N) + l_ij(k + N, k)\n",
        "        return 1.0 / (2*N) * loss"
      ]
    },
    {
      "cell_type": "markdown",
      "metadata": {
        "colab_type": "text",
        "id": "CIjJ0gTUGY74"
      },
      "source": [
        "#### Explanation\n",
        "Contrastive loss needs to know the batch size and `temperature` (scaling) parameter. You can find details about setting the optimal `temperature` parameter in the paper.\n",
        "\n",
        "My implementation of the `forward` of the contrastive loss takes two parameters. First one will be a batch projections of images after first augumentation, the second will be a batch projections of images after second augumentaion.\n",
        "\n",
        "Projections needs to be normalized first, hence:\n",
        "```python\n",
        "z_i = F.normalize(emb_i, dim=1)\n",
        "z_j = F.normalize(emb_j, dim=1)\n",
        "```\n",
        "\n",
        "All representations are concatenated together in order to efficiently calculate cosine similarities between each image pair.\n",
        "\n",
        "```python\n",
        "representations = torch.cat([z_i, z_j], dim=0)\n",
        "similarity_matrix = F.cosine_similarity(representations.unsqueeze(1), representations.unsqueeze(0), dim=2)\n",
        "```\n",
        "\n",
        "Next is the naive implementation of <i>l(i,j)</i> for clarity and easiness of understanding. The code bellow almost directly implements the equation:\n",
        "<img src=\"contrastive-loss-lij.png\"/>\n",
        "```python\n",
        "def l_ij(i, j):\n",
        "    z_i_, z_j_ = representations[i], representations[j]\n",
        "    sim_i_j = similarity_matrix[i, j]\n",
        "    numerator = torch.exp(sim_i_j / self.temperature)\n",
        "    one_for_not_i = torch.ones((2 * self.batch_size, )).to(emb_i.device).scatter_(0, torch.tensor([i]), 0.0)\n",
        "    denominator = torch.sum(\n",
        "        one_for_not_i * torch.exp(similarity_matrix[i, :] / self.temperature)\n",
        "    )\n",
        "\n",
        "    loss_ij = -torch.log(numerator / denominator)\n",
        "    return loss_ij.squeeze(0)\n",
        "```\n",
        "\n",
        "Then, the final loss for the batch is computed arithmetic mean of all combinations of positive examples:\n",
        "```python\n",
        "N = self.batch_size\n",
        "loss = 0.0\n",
        "for k in range(0, N):\n",
        "    loss += l_ij(k, k + N) + l_ij(k + N, k)\n",
        "return 1.0 / (2*N) * loss\n",
        "```"
      ]
    },
    {
      "cell_type": "markdown",
      "metadata": {
        "colab_type": "text",
        "id": "detEu6B0GY75"
      },
      "source": [
        "Now, let's run it with `verbose` mode to see what's inside."
      ]
    },
    {
      "cell_type": "code",
      "execution_count": 4,
      "metadata": {
        "colab": {
          "base_uri": "https://localhost:8080/",
          "height": 680
        },
        "colab_type": "code",
        "id": "CZPX-QDFGY75",
        "outputId": "c4a00eaa-c0a8-400e-8f6f-a288301ad416"
      },
      "outputs": [
        {
          "name": "stdout",
          "output_type": "stream",
          "text": [
            "Similarity matrix\n",
            " tensor([[ 1.0000, -0.1240,  0.9648,  0.8944, -0.0948,  0.9679],\n",
            "        [-0.1240,  1.0000, -0.3807,  0.3328,  0.9996, -0.3694],\n",
            "        [ 0.9648, -0.3807,  1.0000,  0.7452, -0.3534,  0.9999],\n",
            "        [ 0.8944,  0.3328,  0.7452,  1.0000,  0.3604,  0.7533],\n",
            "        [-0.0948,  0.9996, -0.3534,  0.3604,  1.0000, -0.3419],\n",
            "        [ 0.9679, -0.3694,  0.9999,  0.7533, -0.3419,  1.0000]]) \n",
            "\n",
            "sim(0, 3)=0.8944272398948669\n",
            "1{k!=0} tensor([0., 1., 1., 1., 1., 1.])\n",
            "Denominator tensor(9.4954)\n",
            "loss(0,3)=1.3563847541809082\n",
            "\n",
            "sim(3, 0)=0.8944272398948669\n",
            "1{k!=3} tensor([1., 1., 1., 0., 1., 1.])\n",
            "Denominator tensor(9.5058)\n",
            "loss(3,0)=1.357473373413086\n",
            "\n",
            "sim(1, 4)=0.9995677471160889\n",
            "1{k!=1} tensor([1., 0., 1., 1., 1., 1.])\n",
            "Denominator tensor(6.3699)\n",
            "loss(1,4)=0.8520082831382751\n",
            "\n",
            "sim(4, 1)=0.9995677471160889\n",
            "1{k!=4} tensor([1., 1., 1., 1., 0., 1.])\n",
            "Denominator tensor(6.4733)\n",
            "loss(4,1)=0.8681114912033081\n",
            "\n",
            "sim(2, 5)=0.9999250769615173\n",
            "1{k!=2} tensor([1., 1., 0., 1., 1., 1.])\n",
            "Denominator tensor(8.8348)\n",
            "loss(2,5)=1.1787779331207275\n",
            "\n",
            "sim(5, 2)=0.9999250769615173\n",
            "1{k!=5} tensor([1., 1., 1., 1., 1., 0.])\n",
            "Denominator tensor(8.8762)\n",
            "loss(5,2)=1.1834462881088257\n",
            "\n"
          ]
        },
        {
          "data": {
            "text/plain": [
              "tensor(1.1327)"
            ]
          },
          "execution_count": 4,
          "metadata": {},
          "output_type": "execute_result"
        }
      ],
      "source": [
        "I = torch.tensor([[1.0, 2.0], [3.0, -2.0], [1.0, 5.0]])\n",
        "J = torch.tensor([[1.0, 0.75], [2.8, -1.75], [1.0, 4.7]])\n",
        "loss_eli5 = ContrastiveLossELI5(batch_size=3, temperature=1.0, verbose=True)\n",
        "loss_eli5(I, J)"
      ]
    },
    {
      "cell_type": "markdown",
      "metadata": {
        "colab_type": "text",
        "id": "ocSFdks5GY79"
      },
      "source": [
        "A few things happened there, but by going back and forward between the verbose logs and the equation, everything should become clear.\n",
        "The indexing jumps by batch size (first `l(0,3), l(3,0)` then `l(1,4), l(4,1)` because the way the similarity matrix was constructed. First row of the `similarity_matrix` is:\n",
        "```python\n",
        "[ 1.0000, -0.1240,  0.9648,  0.8944, -0.0948,  0.9679]\n",
        "```\n",
        "\n",
        "Remember the input:\n",
        "```python\n",
        "I = torch.tensor([[1.0, 2.0], [3.0, -2.0], [1.0, 5.0]])\n",
        "J = torch.tensor([[1.0, 0.75], [2.8, -1.75], [1.0, 4.7]])\n",
        "```\n",
        "\n",
        "Now:\n",
        "\n",
        "`1.0000` is the cosine similarity between `I[0] and I[0]` (`[1.0, 2.0] and [1.0, 2.0]`)\n",
        "\n",
        "`-0.1240` is the cosine similarity between `I[0] and I[1]` (`[1.0, 2.0] and [3.0, -2.0]`)\n",
        "\n",
        "`-0.0948` is the cosine similarity between `I[0] and J[2]` (`[1.0, 2.0] and [2.8, -1.75]`)\n",
        "\n",
        "... and so on."
      ]
    },
    {
      "cell_type": "markdown",
      "metadata": {
        "colab_type": "text",
        "id": "z5RDz3D-GY7-"
      },
      "source": [
        "Let's see if the loss decreases if the similarity between first image projection increases:"
      ]
    },
    {
      "cell_type": "code",
      "execution_count": 5,
      "metadata": {
        "colab": {
          "base_uri": "https://localhost:8080/",
          "height": 34
        },
        "colab_type": "code",
        "id": "cuIyNvkvGY7-",
        "outputId": "0ee4fccb-0283-402d-cd95-28ae7523939f"
      },
      "outputs": [
        {
          "data": {
            "text/plain": [
              "tensor(1.0996)"
            ]
          },
          "execution_count": 5,
          "metadata": {},
          "output_type": "execute_result"
        }
      ],
      "source": [
        "I = torch.tensor([[1.0, 2.0], [3.0, -2.0], [1.0, 5.0]])\n",
        "J = torch.tensor([[1.0, 0.75], [2.8, -1.75], [1.0, 4.7]])\n",
        "J = torch.tensor([[1.0, 1.75], [2.8, -1.75], [1.0, 4.7]]) # note the change\n",
        "ContrastiveLossELI5(3, 1.0, verbose=False)(I, J)"
      ]
    },
    {
      "cell_type": "markdown",
      "metadata": {
        "colab_type": "text",
        "id": "79ahoOxjGY8B"
      },
      "source": [
        "Indeed the loss decreases! Now I will follow up with the vectorized implementation.\n",
        "\n",
        "### Contrastive loss function - implementation in PyTorch, vectorized version\n",
        "Performance of naive implementation is really poor (mostly due to manual loop), see the results:"
      ]
    },
    {
      "cell_type": "code",
      "execution_count": 6,
      "metadata": {
        "colab": {},
        "colab_type": "code",
        "id": "2BLy2u6GGY8C"
      },
      "outputs": [],
      "source": [
        "contrastive_loss_eli5 = ContrastiveLossELI5(3, 1.0, verbose=False)\n",
        "I = torch.tensor([[1.0, 2.0], [3.0, -2.0], [1.0, 5.0]], requires_grad=True)\n",
        "J = torch.tensor([[1.0, 0.75], [2.8, -1.75], [1.0, 4.7]], requires_grad=True)"
      ]
    },
    {
      "cell_type": "code",
      "execution_count": 7,
      "metadata": {
        "colab": {
          "base_uri": "https://localhost:8080/",
          "height": 51
        },
        "colab_type": "code",
        "id": "d6aJqJziGY8G",
        "outputId": "9d87f501-f1a9-4887-b60c-f2b9a82864be"
      },
      "outputs": [
        {
          "name": "stdout",
          "output_type": "stream",
          "text": [
            "628 µs ± 17.3 µs per loop (mean ± std. dev. of 7 runs, 1000 loops each)\n"
          ]
        }
      ],
      "source": [
        "%%timeit\n",
        "contrastive_loss_eli5(I, J)"
      ]
    },
    {
      "cell_type": "markdown",
      "metadata": {
        "colab_type": "text",
        "id": "tZNKfUKKGY8J"
      },
      "source": [
        "Once I understood the internals of the loss, it's easy to vectorize it and remove the manual loop:"
      ]
    },
    {
      "cell_type": "code",
      "execution_count": 8,
      "metadata": {
        "colab": {},
        "colab_type": "code",
        "id": "1160mtuhGY8J"
      },
      "outputs": [],
      "source": [
        "class ContrastiveLoss(nn.Module):\n",
        "    def __init__(self, batch_size, temperature=0.5):\n",
        "        super().__init__()\n",
        "        self.batch_size = batch_size\n",
        "        self.register_buffer(\"temperature\", torch.tensor(temperature))\n",
        "        self.register_buffer(\"negatives_mask\", (~torch.eye(batch_size * 2, batch_size * 2, dtype=bool)).float())\n",
        "            \n",
        "    def forward(self, emb_i, emb_j):\n",
        "        \"\"\"\n",
        "        emb_i and emb_j are batches of embeddings, where corresponding indices are pairs\n",
        "        z_i, z_j as per SimCLR paper\n",
        "        \"\"\"\n",
        "        z_i = F.normalize(emb_i, dim=1)\n",
        "        z_j = F.normalize(emb_j, dim=1)\n",
        "\n",
        "        representations = torch.cat([z_i, z_j], dim=0)\n",
        "        similarity_matrix = F.cosine_similarity(representations.unsqueeze(1), representations.unsqueeze(0), dim=2)\n",
        "        \n",
        "        sim_ij = torch.diag(similarity_matrix, self.batch_size)\n",
        "        sim_ji = torch.diag(similarity_matrix, -self.batch_size)\n",
        "        positives = torch.cat([sim_ij, sim_ji], dim=0)\n",
        "        \n",
        "        nominator = torch.exp(positives / self.temperature)\n",
        "        denominator = self.negatives_mask * torch.exp(similarity_matrix / self.temperature)\n",
        "    \n",
        "        loss_partial = -torch.log(nominator / torch.sum(denominator, dim=1))\n",
        "        loss = torch.sum(loss_partial) / (2 * self.batch_size)\n",
        "        return loss"
      ]
    },
    {
      "cell_type": "code",
      "execution_count": 9,
      "metadata": {
        "colab": {
          "base_uri": "https://localhost:8080/",
          "height": 34
        },
        "colab_type": "code",
        "id": "AZ0TKBpCGY8M",
        "outputId": "c6f09e93-c71e-46a4-8d3e-b8df53a68608"
      },
      "outputs": [
        {
          "data": {
            "text/plain": [
              "0.0"
            ]
          },
          "execution_count": 9,
          "metadata": {},
          "output_type": "execute_result"
        }
      ],
      "source": [
        "contrastive_loss = ContrastiveLoss(3, 1.0)\n",
        "contrastive_loss(I, J).item() - contrastive_loss_eli5(I, J).item()"
      ]
    },
    {
      "cell_type": "markdown",
      "metadata": {
        "colab_type": "text",
        "id": "t83pYD0rGY8O"
      },
      "source": [
        "The difference should be zero or close to zero (< 1e-6 due to fp arithmetics). Performance comparison:"
      ]
    },
    {
      "cell_type": "code",
      "execution_count": 10,
      "metadata": {
        "colab": {},
        "colab_type": "code",
        "id": "wtzpmLSNGY8P"
      },
      "outputs": [],
      "source": [
        "I = torch.tensor([[1.0, 2.0], [3.0, -2.0], [1.0, 5.0]], requires_grad=True)\n",
        "J = torch.tensor([[1.0, 0.75], [2.8, -1.75], [1.0, 4.7]], requires_grad=True)"
      ]
    },
    {
      "cell_type": "code",
      "execution_count": 11,
      "metadata": {
        "colab": {
          "base_uri": "https://localhost:8080/",
          "height": 34
        },
        "colab_type": "code",
        "id": "fis8WxSCGY8R",
        "outputId": "c16868d2-1da6-4f3f-a64f-98f013b48cc0"
      },
      "outputs": [
        {
          "name": "stdout",
          "output_type": "stream",
          "text": [
            "659 µs ± 31.2 µs per loop (mean ± std. dev. of 7 runs, 1000 loops each)\n"
          ]
        }
      ],
      "source": [
        "%%timeit\n",
        "contrastive_loss_eli5(I, J)"
      ]
    },
    {
      "cell_type": "code",
      "execution_count": 12,
      "metadata": {
        "colab": {
          "base_uri": "https://localhost:8080/",
          "height": 51
        },
        "colab_type": "code",
        "id": "fcwDRVckGY8U",
        "outputId": "194acfa4-61e6-4a3a-f486-95d862392190"
      },
      "outputs": [
        {
          "name": "stdout",
          "output_type": "stream",
          "text": [
            "199 µs ± 6.72 µs per loop (mean ± std. dev. of 7 runs, 10000 loops each)\n"
          ]
        }
      ],
      "source": [
        "%%timeit\n",
        "contrastive_loss(I, J)"
      ]
    },
    {
      "cell_type": "markdown",
      "metadata": {
        "colab_type": "text",
        "id": "WYmbLxIyGY8W"
      },
      "source": [
        "Almost 4x improvement, it works."
      ]
    },
    {
      "cell_type": "markdown",
      "metadata": {
        "colab_type": "text",
        "id": "Hp29gFYIGY8W"
      },
      "source": [
        "## Pre-training image embeddings using SimCLR with EfficientNet\n",
        "Once the loss function is established and understood it's time to make a good use of it. I will pre-train image embeddings using EfficientNet architecture, following the SimCLR framework. For convenenience, I've implemented a few utility functions and classes that I will explain briefly below. The training code is structured using PyTorch-Lightning.\n",
        "\n",
        "I will use a great EfficientNet [<a href=\"https://arxiv.org/abs/1905.11946\" target=\"blank\">https://arxiv.org/abs/1905.11946</a>] implementation by <a href=\"https://github.com/lukemelas/EfficientNet-PyTorch.git\">Luke Melas-Kyriazi from GitHub</a>, already pre-trained on ImageNet (transfer learning inception!). The dataset I choose is <a href=\"https://ai.stanford.edu/~acoates/stl10/\">STL10</a> (from `torchvision`) as it contains both training and unlabeled splits for unsupervised / self-supervised learning tasks.\n",
        "\n",
        "> My goal here is to demonstrate the whole SimCLR flow from start to the end. I had no intent to reach new SOTA with the presented configuration."
      ]
    },
    {
      "cell_type": "markdown",
      "metadata": {
        "colab_type": "text",
        "id": "9vAYNZVCGY8W"
      },
      "source": [
        "### Utility functions for image augumentations\n",
        "Training with SimCLR produces good image embeddings that are not affected by image transformations - this is because during training, various data augumentations are done to force the network to understand the contents of the images regardless of i.e color of the image or the position where the object in the image is placed.\n",
        "SimCLR's authors say that *composition of data augmentations plays a critical role in defining effective predictive tasks* and also *contrastive learning needs stronger data augmentation than supervised learning*. To sum this up: when pre-training the image embeddings it's good to make this task difficult for the network to learn by strongly augumenting the images in order to generalize better afterwards.\n",
        "\n",
        "> I strongly advise to read the SimCLR's paper and it's appendix as they did ablation studies on which data augumentations bring the best effects on the embeddings.\n",
        "\n",
        "To keep this blog-post simple to go through, I will mostly use built-in Torchvision's data augumentations , with one additional one - random resized rotation."
      ]
    },
    {
      "cell_type": "code",
      "execution_count": 13,
      "metadata": {
        "colab": {},
        "colab_type": "code",
        "id": "C4eG-aIqGY8X"
      },
      "outputs": [],
      "source": [
        "def random_rotate(image):\n",
        "    if random.random() > 0.5:\n",
        "        return tvf.rotate(image, angle=random.choice((0, 90, 180, 270)))\n",
        "    return image"
      ]
    },
    {
      "cell_type": "code",
      "execution_count": 14,
      "metadata": {
        "colab": {},
        "colab_type": "code",
        "id": "pH9uNzICGY8Z"
      },
      "outputs": [],
      "source": [
        "class ResizedRotation():\n",
        "    def __init__(self, angle, output_size=(96, 96)):\n",
        "        self.angle = angle\n",
        "        self.output_size = output_size\n",
        "        \n",
        "    def angle_to_rad(self, ang): return np.pi * ang / 180.0\n",
        "        \n",
        "    def __call__(self, image):\n",
        "        w, h = image.size\n",
        "        new_h = int(np.abs(w * np.sin(self.angle_to_rad(90 - self.angle))) + np.abs(h * np.sin(self.angle_to_rad(self.angle))))\n",
        "        new_w = int(np.abs(h * np.sin(self.angle_to_rad(90 - self.angle))) + np.abs(w * np.sin(self.angle_to_rad(self.angle))))\n",
        "        img = tvf.resize(image, (new_w, new_h))\n",
        "        img = tvf.rotate(img, self.angle)\n",
        "        img = tvf.center_crop(img, self.output_size)\n",
        "        return img"
      ]
    },
    {
      "cell_type": "code",
      "execution_count": 15,
      "metadata": {
        "colab": {},
        "colab_type": "code",
        "id": "zKu4pn5uGY8b"
      },
      "outputs": [],
      "source": [
        "class WrapWithRandomParams():\n",
        "    def __init__(self, constructor, ranges):\n",
        "        self.constructor = constructor\n",
        "        self.ranges = ranges\n",
        "    \n",
        "    def __call__(self, image):\n",
        "        randoms = [float(np.random.uniform(low, high)) for _, (low, high) in zip(range(len(self.ranges)), self.ranges)]\n",
        "        return self.constructor(*randoms)(image)\n",
        "            "
      ]
    },
    {
      "cell_type": "code",
      "execution_count": 16,
      "metadata": {
        "colab": {},
        "colab_type": "code",
        "id": "bJFKQQbXGY8d"
      },
      "outputs": [],
      "source": [
        "from torchvision.datasets import STL10\n",
        "import torchvision.transforms.functional as tvf\n",
        "from torchvision import transforms\n",
        "import numpy as np"
      ]
    },
    {
      "cell_type": "markdown",
      "metadata": {
        "colab_type": "text",
        "id": "yNJ29JjBGY8g"
      },
      "source": [
        "A brief look on the transformation results:"
      ]
    },
    {
      "cell_type": "code",
      "execution_count": 17,
      "metadata": {
        "colab": {
          "base_uri": "https://localhost:8080/",
          "height": 83,
          "referenced_widgets": [
            "3a2b9cb4f7a74d27b8e7ee513cea5bab",
            "63a1def182a5493cb8b6bfdb7a615b21",
            "672931e8cf7c40cb8218329823311c58",
            "9ba43c03f1964527b1d8e3487abd2fad",
            "e57c9c510ae24555a615ef43e7bd4ebc",
            "923134504bcb4ca1a2e3751857285be2",
            "1a5ed5e067344488a536d7895d089b6f",
            "26df9334360a4e9e96a77e8cd4942809"
          ]
        },
        "colab_type": "code",
        "id": "uFYBs12XGY8g",
        "outputId": "dd0b5680-e02b-494e-a662-4dc69735d289"
      },
      "outputs": [
        {
          "name": "stdout",
          "output_type": "stream",
          "text": [
            "Files already downloaded and verified\n"
          ]
        }
      ],
      "source": [
        "stl10_unlabeled = STL10(\".\", split=\"unlabeled\", download=True)"
      ]
    },
    {
      "cell_type": "code",
      "execution_count": 18,
      "metadata": {
        "colab": {},
        "colab_type": "code",
        "id": "SRTD7rt8GY8i"
      },
      "outputs": [],
      "source": [
        "idx = 123"
      ]
    },
    {
      "cell_type": "code",
      "execution_count": 19,
      "metadata": {
        "colab": {},
        "colab_type": "code",
        "id": "Uc0VHCyvGY8k"
      },
      "outputs": [],
      "source": [
        "random_resized_rotation = WrapWithRandomParams(lambda angle: ResizedRotation(angle), [(0.0, 360.0)])"
      ]
    },
    {
      "cell_type": "code",
      "execution_count": 20,
      "metadata": {
        "colab": {
          "base_uri": "https://localhost:8080/",
          "height": 113
        },
        "colab_type": "code",
        "id": "Oo2VeboVGY8l",
        "outputId": "313df649-14ad-4b4f-be1c-caa705e41df0"
      },
      "outputs": [
        {
          "data": {
            "image/png": "[encoded data removed]",
            "text/plain": [
              "<PIL.Image.Image image mode=RGB size=96x96 at 0x7F348E116890>"
            ]
          },
          "execution_count": 20,
          "metadata": {},
          "output_type": "execute_result"
        }
      ],
      "source": [
        "random_resized_rotation(tvf.resize(stl10_unlabeled[idx][0], (96, 96)))"
      ]
    },
    {
      "cell_type": "markdown",
      "metadata": {
        "colab_type": "text",
        "id": "LMMfK7cpGY8n"
      },
      "source": [
        "###  Automatic data augumentation wrapper\n",
        "Here I've also implemented utility dataset wrapper that automatically applies random data augumentations every time when the image is retrieved. It can be easily used with any image dataset as long as it follows the simple interface of returning `tuple` with `(PIL Image, anything)`. This wrapper can be set to return deterministic transformation with `debug` flag set to `True`. Note that there is a `preprocess` step that applies `ImageNet`-originated data standarization as I'm using already pre-trained EfficientNet."
      ]
    },
    {
      "cell_type": "code",
      "execution_count": 21,
      "metadata": {
        "colab": {},
        "colab_type": "code",
        "id": "_aPHuXolGY8n"
      },
      "outputs": [],
      "source": [
        "from torch.utils.data import Dataset, DataLoader, SubsetRandomSampler, SequentialSampler\n",
        "import random"
      ]
    },
    {
      "cell_type": "code",
      "execution_count": 22,
      "metadata": {
        "colab": {},
        "colab_type": "code",
        "id": "LzjnG1wtGY8p"
      },
      "outputs": [],
      "source": [
        "class PretrainingDatasetWrapper(Dataset):\n",
        "    def __init__(self, ds: Dataset, target_size=(96, 96), debug=False):\n",
        "        super().__init__()\n",
        "        self.ds = ds\n",
        "        self.debug = debug\n",
        "        self.target_size = target_size\n",
        "        if debug:\n",
        "            print(\"DATASET IN DEBUG MODE\")\n",
        "        \n",
        "        # I will be using network pre-trained on ImageNet first, which uses this normalization.\n",
        "        # Remove this, if you're training from scratch or apply different transformations accordingly\n",
        "        self.preprocess = transforms.Compose([\n",
        "                transforms.ToTensor(),\n",
        "                transforms.Normalize(mean=[0.485, 0.456, 0.406], std=[0.229, 0.224, 0.225]),\n",
        "        ])\n",
        "        \n",
        "        random_resized_rotation = WrapWithRandomParams(lambda angle: ResizedRotation(angle, target_size), [(0.0, 360.0)])\n",
        "        self.randomize = transforms.Compose([\n",
        "            transforms.RandomResizedCrop(target_size, scale=(1/3, 1.0), ratio=(0.3, 2.0)),\n",
        "            transforms.RandomChoice([\n",
        "                transforms.RandomHorizontalFlip(p=0.5),\n",
        "                transforms.Lambda(random_rotate)\n",
        "            ]),\n",
        "            transforms.RandomApply([\n",
        "                random_resized_rotation\n",
        "            ], p=0.33),\n",
        "            transforms.RandomApply([\n",
        "                transforms.ColorJitter(brightness=0.5, contrast=0.5, saturation=0.5, hue=0.2)\n",
        "            ], p=0.8),\n",
        "            transforms.RandomGrayscale(p=0.2)\n",
        "        ])\n",
        "    \n",
        "    def __len__(self): return len(self.ds)\n",
        "    \n",
        "    def __getitem_internal__(self, idx, preprocess=True):\n",
        "        this_image_raw, _ = self.ds[idx]\n",
        "        \n",
        "        if self.debug:\n",
        "            random.seed(idx)\n",
        "            t1 = self.randomize(this_image_raw)\n",
        "            random.seed(idx + 1)\n",
        "            t2 = self.randomize(this_image_raw)\n",
        "        else:\n",
        "            t1 = self.randomize(this_image_raw)\n",
        "            t2 = self.randomize(this_image_raw)\n",
        "        \n",
        "        if preprocess:\n",
        "            t1 = self.preprocess(t1)\n",
        "            t2 = self.preprocess(t2)\n",
        "        else:\n",
        "            t1 = transforms.ToTensor()(t1)\n",
        "            t2 = transforms.ToTensor()(t2)\n",
        "\n",
        "        return (t1, t2), torch.tensor(0)\n",
        "\n",
        "    def __getitem__(self, idx):\n",
        "        return self.__getitem_internal__(idx, True)\n",
        "    \n",
        "    def raw(self, idx):\n",
        "        return self.__getitem_internal__(idx, False)"
      ]
    },
    {
      "cell_type": "code",
      "execution_count": 23,
      "metadata": {
        "colab": {},
        "colab_type": "code",
        "id": "erq5KssbGY8r"
      },
      "outputs": [],
      "source": [
        "ds = PretrainingDatasetWrapper(stl10_unlabeled, debug=False)"
      ]
    },
    {
      "cell_type": "code",
      "execution_count": 24,
      "metadata": {
        "colab": {
          "base_uri": "https://localhost:8080/",
          "height": 113
        },
        "colab_type": "code",
        "id": "0hlmfYcqGY8t",
        "outputId": "8496285b-913e-4d16-cd8b-a4a15cbb5c0b"
      },
      "outputs": [
        {
          "data": {
            "image/png": "[encoded data removed]",
            "text/plain": [
              "<PIL.Image.Image image mode=RGB size=96x96 at 0x7F348E0D18D0>"
            ]
          },
          "execution_count": 24,
          "metadata": {},
          "output_type": "execute_result"
        }
      ],
      "source": [
        "tvf.to_pil_image(ds[idx][0][0])"
      ]
    },
    {
      "cell_type": "code",
      "execution_count": 25,
      "metadata": {
        "colab": {
          "base_uri": "https://localhost:8080/",
          "height": 113
        },
        "colab_type": "code",
        "id": "rt2dA_GlGY8v",
        "outputId": "7043a95f-dfc6-4689-bac2-7b86eb02186d"
      },
      "outputs": [
        {
          "data": {
            "image/png": "[encoded data removed]",
            "text/plain": [
              "<PIL.Image.Image image mode=RGB size=96x96 at 0x7F348E0D1CD0>"
            ]
          },
          "execution_count": 25,
          "metadata": {},
          "output_type": "execute_result"
        }
      ],
      "source": [
        "tvf.to_pil_image(ds[idx][0][1])"
      ]
    },
    {
      "cell_type": "code",
      "execution_count": 26,
      "metadata": {
        "colab": {
          "base_uri": "https://localhost:8080/",
          "height": 113
        },
        "colab_type": "code",
        "id": "7Br2zS3bGY8w",
        "outputId": "c05a5360-5eb6-4b2e-d70c-30515c2fcd93"
      },
      "outputs": [
        {
          "data": {
            "image/png": "[encoded data removed]",
            "text/plain": [
              "<PIL.Image.Image image mode=RGB size=96x96 at 0x7F33E7133850>"
            ]
          },
          "execution_count": 26,
          "metadata": {},
          "output_type": "execute_result"
        }
      ],
      "source": [
        "tvf.to_pil_image(ds.raw(idx)[0][1])"
      ]
    },
    {
      "cell_type": "code",
      "execution_count": 27,
      "metadata": {
        "colab": {
          "base_uri": "https://localhost:8080/",
          "height": 113
        },
        "colab_type": "code",
        "id": "4-FC-zPtGY8y",
        "outputId": "99244bd4-d177-4154-a3cd-6b01c6961218"
      },
      "outputs": [
        {
          "data": {
            "image/png": "[encoded data removed]",
            "text/plain": [
              "<PIL.Image.Image image mode=RGB size=96x96 at 0x7F348E0D1E50>"
            ]
          },
          "execution_count": 27,
          "metadata": {},
          "output_type": "execute_result"
        }
      ],
      "source": [
        "tvf.to_pil_image(ds.raw(idx)[0][0])"
      ]
    },
    {
      "cell_type": "markdown",
      "metadata": {
        "colab_type": "text",
        "id": "zeeFx9xTGY81"
      },
      "source": [
        "### SimCLR neural network for embeddings\n",
        "Here I define the `ImageEmbedding` neural network which bases on `EfficientNet-b0` architecture. I swap out last layer of pre-trained `EfficientNet` with identity function and add projection for image embeddings on top of it (following the SimCLR paper) with `Linear-ReLU-Linear` layers."
      ]
    },
    {
      "cell_type": "code",
      "execution_count": 28,
      "metadata": {
        "colab": {},
        "colab_type": "code",
        "id": "YDa407DMGY82"
      },
      "outputs": [],
      "source": [
        "from efficientnet_pytorch import EfficientNet"
      ]
    },
    {
      "cell_type": "code",
      "execution_count": 29,
      "metadata": {
        "colab": {},
        "colab_type": "code",
        "id": "bWkyjXpJGY84"
      },
      "outputs": [],
      "source": [
        "class ImageEmbedding(nn.Module):       \n",
        "    class Identity(nn.Module):\n",
        "        def __init__(self): super().__init__()\n",
        "\n",
        "        def forward(self, x):\n",
        "            return x\n",
        "    \n",
        "        \n",
        "    def __init__(self, embedding_size=1024):\n",
        "        super().__init__()\n",
        "        \n",
        "        base_model = EfficientNet.from_pretrained(\"efficientnet-b0\")\n",
        "        internal_embedding_size = base_model._fc.in_features\n",
        "        base_model._fc = ImageEmbedding.Identity()\n",
        "        \n",
        "        self.embedding = base_model\n",
        "        \n",
        "        self.projection = nn.Sequential(\n",
        "            nn.Linear(in_features=internal_embedding_size, out_features=embedding_size),\n",
        "            nn.ReLU(),\n",
        "            nn.Linear(in_features=embedding_size, out_features=embedding_size)\n",
        "        )\n",
        "\n",
        "    def calculate_embedding(self, image):\n",
        "        return self.embedding(image)\n",
        "\n",
        "    def forward(self, X):\n",
        "        image = X\n",
        "        embedding = self.calculate_embedding(image)\n",
        "        projection = self.projection(embedding)\n",
        "        return embedding, projection\n"
      ]
    },
    {
      "cell_type": "markdown",
      "metadata": {
        "colab_type": "text",
        "id": "iX4yXVQkGY85"
      },
      "source": [
        "Next is the implementation of PyTorch-Lightning-based training module that orchestrates everything together:\n",
        "* hyper-parameters handling\n",
        "* SimCLR ImageEmbedding network\n",
        "* STL10 dataset\n",
        "* optimizer\n",
        "* forward step\n",
        "\n",
        "As the `PretrainingDatasetWrapper` I've implemented returns tuple of: `(Image1, Image2), dummy class`, the forward step for this module is straightforward - it needs to produce two batches of embeddings and calculate contrastive loss function:\n",
        "```python\n",
        "(X, Y), y = batch\n",
        "embX, projectionX = self.forward(X)\n",
        "embY, projectionY = self.forward(Y)\n",
        "loss = self.loss(projectionX, projectionY)\n",
        "```"
      ]
    },
    {
      "cell_type": "code",
      "execution_count": 30,
      "metadata": {
        "colab": {},
        "colab_type": "code",
        "id": "raSuHkb3GY85"
      },
      "outputs": [],
      "source": [
        "from torch.multiprocessing import cpu_count\n",
        "from torch.optim import RMSprop\n",
        "import pytorch_lightning as pl"
      ]
    },
    {
      "cell_type": "code",
      "execution_count": 34,
      "metadata": {
        "colab": {},
        "colab_type": "code",
        "id": "cBAkMXXmGY87"
      },
      "outputs": [],
      "source": [
        "class ImageEmbeddingModule(pl.LightningModule):\n",
        "    def __init__(self, hparams):\n",
        "        hparams = Namespace(**hparams) if isinstance(hparams, dict) else hparams\n",
        "        super().__init__()\n",
        "        self.hyper_params = hparams\n",
        "        self.model = ImageEmbedding()\n",
        "        self.loss = ContrastiveLoss(hparams.batch_size)\n",
        "    \n",
        "    def total_steps(self):\n",
        "        return len(self.train_dataloader()) // self.hyper_params.epochs\n",
        "    \n",
        "    def train_dataloader(self):\n",
        "        return DataLoader(PretrainingDatasetWrapper(stl10_unlabeled, \n",
        "                                             debug=getattr(self.hyper_params, \"debug\", False)),\n",
        "                          batch_size=self.hyper_params.batch_size, \n",
        "                          num_workers=cpu_count(),\n",
        "                          sampler=SubsetRandomSampler(list(range(hparams.train_size))),\n",
        "                         drop_last=True)\n",
        "    \n",
        "    def val_dataloader(self):\n",
        "        return DataLoader(PretrainingDatasetWrapper(stl10_unlabeled,\n",
        "                                            debug=getattr(self.hyper_params, \"debug\", False)),\n",
        "                          batch_size=self.hyper_params.batch_size, \n",
        "                          shuffle=False,\n",
        "                          num_workers=cpu_count(),\n",
        "                          sampler=SequentialSampler(list(range(hparams.train_size + 1, hparams.train_size + hparams.validation_size))),\n",
        "                         drop_last=True)\n",
        "    \n",
        "    def forward(self, X):\n",
        "        return self.model(X)\n",
        "    \n",
        "    def step(self, batch, step_name = \"train\"):\n",
        "        (X, Y), y = batch\n",
        "        embX, projectionX = self.forward(X)\n",
        "        embY, projectionY = self.forward(Y)\n",
        "        loss = self.loss(projectionX, projectionY)\n",
        "        loss_key = f\"{step_name}_loss\"\n",
        "        tensorboard_logs = {loss_key: loss}\n",
        "\n",
        "        return { (\"loss\" if step_name == \"train\" else loss_key): loss, 'log': tensorboard_logs,\n",
        "                        \"progress_bar\": {loss_key: loss}}\n",
        "    \n",
        "    def training_step(self, batch, batch_idx):\n",
        "        return self.step(batch, \"train\")\n",
        "    \n",
        "    def validation_step(self, batch, batch_idx):\n",
        "        return self.step(batch, \"val\")\n",
        "    \n",
        "    def validation_end(self, outputs):\n",
        "        if len(outputs) == 0:\n",
        "            return {\"val_loss\": torch.tensor(0)}\n",
        "        else:\n",
        "            loss = torch.stack([x[\"val_loss\"] for x in outputs]).mean()\n",
        "            return {\"val_loss\": loss, \"log\": {\"val_loss\": loss}}\n",
        "\n",
        "    def configure_optimizers(self):\n",
        "        optimizer = RMSprop(self.model.parameters(), lr=self.hyper_params.lr)\n",
        "        return [optimizer], []"
      ]
    },
    {
      "cell_type": "markdown",
      "metadata": {
        "colab_type": "text",
        "id": "V1XtGqPoGY89"
      },
      "source": [
        "Initial hyper-parameters. Batch size of 128 works fine with EfficientNet-B0 on GTX1070. Note that I've limitted training dataset to first 10k images from STL10 for convenience of running this blogpost in the form of Jupyter Notebook / Google Colab.\n",
        "\n",
        "> Important! SimCLR greatly benefits from large batch sizes - it should be set to as high value as possible given the GPU / cluster limits."
      ]
    },
    {
      "cell_type": "code",
      "execution_count": 35,
      "metadata": {
        "colab": {},
        "colab_type": "code",
        "id": "sCmxMF5xGY89"
      },
      "outputs": [],
      "source": [
        "from argparse import Namespace\n",
        "hparams = Namespace(\n",
        "    lr=1e-3,\n",
        "    epochs=50,\n",
        "    batch_size=160,\n",
        "    train_size=10000,\n",
        "    validation_size=1000\n",
        ")"
      ]
    },
    {
      "cell_type": "markdown",
      "metadata": {
        "colab_type": "text",
        "id": "3tdROxusGY9A"
      },
      "source": [
        "#### Finding good initial-learning rate using LRFinder algorithm\n",
        "I use pytorch-lightning's built-in LRFinder algorithm to find initial learning rate."
      ]
    },
    {
      "cell_type": "code",
      "execution_count": 37,
      "metadata": {
        "colab": {
          "base_uri": "https://localhost:8080/",
          "height": 256,
          "referenced_widgets": [
            "66d6c350dc6b4a57927aef2f4bf3065c",
            "4b718bdfdedd440a9308a585af05eaaf",
            "712bf434e0a541a382cc040a6d2b452b",
            "c1c34ea327024c5cbfcfb147c3b2abe4",
            "2020dfc1254e42f8867d99877903bea5",
            "12d98e263dbd4950b82e76d7c28995bd",
            "f5db69016961498ca526b0f389677491",
            "bcd3bff210174fbbaaf6459ff704eefe"
          ]
        },
        "colab_type": "code",
        "id": "HTpdKsZDGY9A",
        "outputId": "9c98e354-5946-4b8c-ad06-3663e3ff07eb"
      },
      "outputs": [
        {
          "name": "stderr",
          "output_type": "stream",
          "text": [
            "/opt/conda/lib/python3.7/site-packages/pytorch_lightning/loops/utilities.py:94: PossibleUserWarning: `max_epochs` was not set. Setting it to 1000 epochs. To train without an epoch limit, set `max_epochs=-1`.\n",
            "  category=PossibleUserWarning,\n",
            "GPU available: True, used: True\n",
            "TPU available: False, using: 0 TPU cores\n",
            "IPU available: False, using: 0 IPUs\n",
            "HPU available: False, using: 0 HPUs\n"
          ]
        },
        {
          "name": "stdout",
          "output_type": "stream",
          "text": [
            "Loaded pretrained weights for efficientnet-b0\n"
          ]
        },
        {
          "name": "stderr",
          "output_type": "stream",
          "text": [
            "LOCAL_RANK: 0 - CUDA_VISIBLE_DEVICES: [0]\n"
          ]
        },
        {
          "data": {
            "application/vnd.jupyter.widget-view+json": {
              "model_id": "8f52905583d342b9a811dbd1b3884fa0",
              "version_major": 2,
              "version_minor": 0
            },
            "text/plain": [
              "Finding best initial lr:   0%|          | 0/100 [00:00<?, ?it/s]"
            ]
          },
          "metadata": {},
          "output_type": "display_data"
        },
        {
          "name": "stderr",
          "output_type": "stream",
          "text": [
            "Restoring states from the checkpoint path at /root/.lr_find_552ee0f3-646e-4be5-a905-4c155f4cdb37.ckpt\n",
            "/opt/conda/lib/python3.7/site-packages/pytorch_lightning/trainer/trainer.py:1719: UserWarning: Be aware that when using `ckpt_path`, callbacks used to create the checkpoint need to be provided during `Trainer` instantiation. Please add the following callbacks: [\"ModelCheckpoint{'monitor': None, 'mode': 'min', 'every_n_train_steps': 0, 'every_n_epochs': 1, 'train_time_interval': None, 'save_on_train_epoch_end': None}\"].\n",
            "  \"Be aware that when using `ckpt_path`,\"\n"
          ]
        }
      ],
      "source": [
        "module = ImageEmbeddingModule(hparams)\n",
        "t = pl.Trainer(gpus=1)\n",
        "lr_finder = t.tuner.lr_find(module)"
      ]
    },
    {
      "cell_type": "code",
      "execution_count": 38,
      "metadata": {
        "colab": {
          "base_uri": "https://localhost:8080/",
          "height": 300
        },
        "colab_type": "code",
        "id": "3O-zc0z2GY9C",
        "outputId": "55028365-1fc0-45db-f75b-1efe948f84c5"
      },
      "outputs": [
        {
          "data": {
            "text/plain": [
              "0.0013182567385564075"
            ]
          },
          "execution_count": 38,
          "metadata": {},
          "output_type": "execute_result"
        },
        {
          "data": {
            "image/png": "[encoded data removed]",
            "text/plain": [
              "<Figure size 432x288 with 1 Axes>"
            ]
          },
          "metadata": {
            "needs_background": "light"
          },
          "output_type": "display_data"
        }
      ],
      "source": [
        "lr_finder.plot(show=False, suggest=True)\n",
        "lr_finder.suggestion()"
      ]
    },
    {
      "cell_type": "markdown",
      "metadata": {
        "colab_type": "text",
        "id": "qQy0enT0GY9E"
      },
      "source": [
        "I also use W&B Logging to keep track of my experiments:"
      ]
    },
    {
      "cell_type": "code",
      "execution_count": 39,
      "metadata": {
        "colab": {},
        "colab_type": "code",
        "id": "T79_EV1yGY9E"
      },
      "outputs": [],
      "source": [
        "from pytorch_lightning.loggers import WandbLogger"
      ]
    },
    {
      "cell_type": "code",
      "execution_count": 40,
      "metadata": {
        "colab": {
          "base_uri": "https://localhost:8080/",
          "height": 85
        },
        "colab_type": "code",
        "id": "j48RY0ZeGY9G",
        "outputId": "2eac8409-f7af-42f0-8bb2-a04ce3975f06"
      },
      "outputs": [
        {
          "name": "stderr",
          "output_type": "stream",
          "text": [
            "GPU available: True, used: True\n",
            "TPU available: False, using: 0 TPU cores\n",
            "IPU available: False, using: 0 IPUs\n",
            "HPU available: False, using: 0 HPUs\n"
          ]
        },
        {
          "name": "stdout",
          "output_type": "stream",
          "text": [
            "Loaded pretrained weights for efficientnet-b0\n"
          ]
        }
      ],
      "source": [
        "hparams = Namespace(\n",
        "    lr=0.0013182567385564075,\n",
        "    epochs=10,\n",
        "    batch_size=160,\n",
        "    train_size=20000,\n",
        "    validation_size=1000\n",
        ")\n",
        "module = ImageEmbeddingModule(hparams)\n",
        "trainer = pl.Trainer(gpus=1, max_epochs=hparams.epochs)\n",
        "# Uncomment for W&B integration\n",
        "# logger = WandbLogger(project=\"simclr-blogpost\")\n",
        "# logger.watch(module, log=\"all\", log_freq=50)\n",
        "# trainer = pl.Trainer(gpus=1, max_epochs=hparams.epochs, logger=logger)\n"
      ]
    },
    {
      "cell_type": "code",
      "execution_count": 41,
      "metadata": {
        "colab": {
          "base_uri": "https://localhost:8080/",
          "height": 188,
          "referenced_widgets": [
            "fd93fcfb47284680a4ae25178dd951fa",
            "8171c55f8f1c49f384d9f38784f22c13",
            "3733cce25e7c40cb83c7424036e4f372",
            "c0c72566cfd7404f9e81e6efc397dc8e",
            "eee8913da3b04fcaa27093426b25fd38",
            "27cfa39fbd6441548cf77d3e8735485d",
            "ba588cacf6c94025892f5257e83322cd",
            "53d6d9ee2c2f493a8bfe5269490736d5",
            "3974604f19b840b2a09ebd284495ed53",
            "117c99eccbe94c78b630849a9db450c2",
            "e3917ebbc51e487481f66c8df68316ce",
            "33ba2cf3460542f4a632e05696351dee",
            "01c7832e21554cfda7c0b759a59f4063",
            "e647d0aeeba648d5860ba2c68ad37ba1",
            "fe9475251c4042aca5c598b33549aa40",
            "85d7b051ac3446d9b72a98c4c331599d",
            "e0bd1cbc38b34d2cb633966565325b7d",
            "6b37cdaa12c74de6b86fce96c838f381",
            "e3c18fc7317d44d2944876185d52127a",
            "964d4acb696540afb93260770ae6ce2c",
            "11759fc12080455094624b153eb35dce",
            "678f7c3bb42549d884e3b8995dd47e81",
            "1c1c1eba0d5e436ba66de315449294e3",
            "b2db4f9b5ecd437586c1153c3e21e661",
            "313feecc97084ace93710d8e11237d06",
            "e611467f4c544611aade87ee71d60914",
            "2d139b573db54e6f90b5e545de34f28d",
            "a8a0c1847cec4eef98264aea6b42308c",
            "060fa39300cc4a488d846900165600ad",
            "115e638d13d64a2ba4cd899451a1c005",
            "b88870fb6ffe483fa6fc02d5e729949e",
            "69ba8210c0f747fe9c0b3c8df8f5ca26"
          ]
        },
        "colab_type": "code",
        "id": "BgBI2KGbGY9H",
        "outputId": "652c5f03-6aa2-430a-d916-43799f6eaaa9"
      },
      "outputs": [
        {
          "name": "stderr",
          "output_type": "stream",
          "text": [
            "LOCAL_RANK: 0 - CUDA_VISIBLE_DEVICES: [0]\n",
            "\n",
            "  | Name  | Type            | Params\n",
            "------------------------------------------\n",
            "0 | model | ImageEmbedding  | 6.4 M \n",
            "1 | loss  | ContrastiveLoss | 0     \n",
            "------------------------------------------\n",
            "6.4 M     Trainable params\n",
            "0         Non-trainable params\n",
            "6.4 M     Total params\n",
            "25.476    Total estimated model params size (MB)\n"
          ]
        },
        {
          "data": {
            "application/vnd.jupyter.widget-view+json": {
              "model_id": "7c1f3ca3ad9741979fec32dfae20339a",
              "version_major": 2,
              "version_minor": 0
            },
            "text/plain": [
              "Sanity Checking: 0it [00:00, ?it/s]"
            ]
          },
          "metadata": {},
          "output_type": "display_data"
        },
        {
          "data": {
            "application/vnd.jupyter.widget-view+json": {
              "model_id": "6cda3d8d606c45458f3651e641a63a06",
              "version_major": 2,
              "version_minor": 0
            },
            "text/plain": [
              "Training: 0it [00:00, ?it/s]"
            ]
          },
          "metadata": {},
          "output_type": "display_data"
        },
        {
          "data": {
            "application/vnd.jupyter.widget-view+json": {
              "model_id": "376253001d02438688e3a90e03aba352",
              "version_major": 2,
              "version_minor": 0
            },
            "text/plain": [
              "Validation: 0it [00:00, ?it/s]"
            ]
          },
          "metadata": {},
          "output_type": "display_data"
        },
        {
          "data": {
            "application/vnd.jupyter.widget-view+json": {
              "model_id": "4933bd9e41824959bce699cb060461ad",
              "version_major": 2,
              "version_minor": 0
            },
            "text/plain": [
              "Validation: 0it [00:00, ?it/s]"
            ]
          },
          "metadata": {},
          "output_type": "display_data"
        },
        {
          "data": {
            "application/vnd.jupyter.widget-view+json": {
              "model_id": "ed6d2006ba7c45f28455d07278019895",
              "version_major": 2,
              "version_minor": 0
            },
            "text/plain": [
              "Validation: 0it [00:00, ?it/s]"
            ]
          },
          "metadata": {},
          "output_type": "display_data"
        },
        {
          "data": {
            "application/vnd.jupyter.widget-view+json": {
              "model_id": "049a135262e5408d8af358486b59ecf1",
              "version_major": 2,
              "version_minor": 0
            },
            "text/plain": [
              "Validation: 0it [00:00, ?it/s]"
            ]
          },
          "metadata": {},
          "output_type": "display_data"
        },
        {
          "data": {
            "application/vnd.jupyter.widget-view+json": {
              "model_id": "cd71628ac0b94b8a9f534e6aeefa3123",
              "version_major": 2,
              "version_minor": 0
            },
            "text/plain": [
              "Validation: 0it [00:00, ?it/s]"
            ]
          },
          "metadata": {},
          "output_type": "display_data"
        },
        {
          "data": {
            "application/vnd.jupyter.widget-view+json": {
              "model_id": "e03dd7eb49a04164a8f907ca7c0e3b3b",
              "version_major": 2,
              "version_minor": 0
            },
            "text/plain": [
              "Validation: 0it [00:00, ?it/s]"
            ]
          },
          "metadata": {},
          "output_type": "display_data"
        },
        {
          "data": {
            "application/vnd.jupyter.widget-view+json": {
              "model_id": "671c4b757239485683ed2b5d862f33a2",
              "version_major": 2,
              "version_minor": 0
            },
            "text/plain": [
              "Validation: 0it [00:00, ?it/s]"
            ]
          },
          "metadata": {},
          "output_type": "display_data"
        },
        {
          "data": {
            "application/vnd.jupyter.widget-view+json": {
              "model_id": "664eb444ee9b4a8e9c12d22784eb4eda",
              "version_major": 2,
              "version_minor": 0
            },
            "text/plain": [
              "Validation: 0it [00:00, ?it/s]"
            ]
          },
          "metadata": {},
          "output_type": "display_data"
        },
        {
          "data": {
            "application/vnd.jupyter.widget-view+json": {
              "model_id": "ff56b0a43d764f25b4124fc42c574d9a",
              "version_major": 2,
              "version_minor": 0
            },
            "text/plain": [
              "Validation: 0it [00:00, ?it/s]"
            ]
          },
          "metadata": {},
          "output_type": "display_data"
        },
        {
          "data": {
            "application/vnd.jupyter.widget-view+json": {
              "model_id": "4b3cbf8d1fa4490a9f31c3b400455865",
              "version_major": 2,
              "version_minor": 0
            },
            "text/plain": [
              "Validation: 0it [00:00, ?it/s]"
            ]
          },
          "metadata": {},
          "output_type": "display_data"
        }
      ],
      "source": [
        "trainer.fit(module)"
      ]
    },
    {
      "cell_type": "markdown",
      "metadata": {
        "colab_type": "text",
        "id": "uXuYMpyvGY9K"
      },
      "source": [
        "## Image classifier on top of SimCLR embeddings\n",
        "Once the embeddings are trained, they can be used to train classifier on top of them - either by fine tuning the whole network or by freezing the base network with embeddings and learning linear classifier on top of it - I show the latter below.\n",
        "\n",
        "### Get pure weights of neural network with embeddings\n",
        "I extract the learned weights for easier usage later on."
      ]
    },
    {
      "cell_type": "code",
      "execution_count": 42,
      "metadata": {
        "colab": {},
        "colab_type": "code",
        "id": "YjVQU5EiGY9K"
      },
      "outputs": [],
      "source": [
        "checkpoint_file = \"efficientnet-b0-stl10-embeddings.ckpt\""
      ]
    },
    {
      "cell_type": "code",
      "execution_count": 43,
      "metadata": {
        "colab": {},
        "colab_type": "code",
        "id": "qeqRY1UcGY9N"
      },
      "outputs": [],
      "source": [
        "trainer.save_checkpoint(checkpoint_file)"
      ]
    },
    {
      "cell_type": "code",
      "execution_count": null,
      "metadata": {
        "colab": {},
        "colab_type": "code",
        "id": "qRympG2tGY9P",
        "outputId": "285171d9-1f31-4f03-a524-24182e3d6511"
      },
      "outputs": [
        {
          "ename": "",
          "evalue": "",
          "output_type": "error",
          "traceback": [
            "\u001b[1;31mRunning cells with 'Python 3.8.10 64-bit' requires ipykernel package.\n",
            "Run the following command to install 'ipykernel' into the Python environment. \n",
            "Command: '/bin/python3 -m pip install ipykernel -U --user --force-reinstall'"
          ]
        }
      ],
      "source": [
        "# trainer.logger.experiment.log_artifact(checkpoint_file, type=\"model\")"
      ]
    },
    {
      "cell_type": "markdown",
      "metadata": {
        "colab_type": "text",
        "id": "C3TkSl9mGY9R"
      },
      "source": [
        "### Classifier module\n",
        "Again, I define custom module - this time it uses already existing embeddings and freezes the base model weights on demand."
      ]
    },
    {
      "cell_type": "code",
      "execution_count": 44,
      "metadata": {
        "colab": {},
        "colab_type": "code",
        "id": "plt4u_9pGY9S"
      },
      "outputs": [],
      "source": [
        "class SimCLRClassifier(nn.Module):\n",
        "    def __init__(self, n_classes, freeze_base, embeddings_model_path, hidden_size=512):\n",
        "        super().__init__()\n",
        "        \n",
        "        base_model = ImageEmbeddingModule.load_from_checkpoint(embeddings_model_path).model\n",
        "        \n",
        "        self.embeddings = base_model.embedding\n",
        "        \n",
        "        if freeze_base:\n",
        "            print(\"Freezing embeddings\")\n",
        "            for param in self.embeddings.parameters():\n",
        "                param.requires_grad = False\n",
        "                \n",
        "        # Only linear projection on top of the embeddings should be enough\n",
        "        self.classifier = nn.Linear(in_features=base_model.projection[0].in_features, \n",
        "                      out_features=n_classes if n_classes > 2 else 1)\n",
        "\n",
        "    \n",
        "    def forward(self, X, *args):\n",
        "        emb = self.embeddings(X)\n",
        "        return self.classifier(emb)"
      ]
    },
    {
      "cell_type": "markdown",
      "metadata": {
        "colab_type": "text",
        "id": "0MawfJuSGY9U"
      },
      "source": [
        "### Classifier training code\n",
        "Classifier training code again uses PyTorch lightning, so I'm skipping in-depth explanation."
      ]
    },
    {
      "cell_type": "code",
      "execution_count": 45,
      "metadata": {
        "colab": {},
        "colab_type": "code",
        "id": "ST79RozgGY9U"
      },
      "outputs": [],
      "source": [
        "from torch import nn\n",
        "from torch.optim.lr_scheduler import CosineAnnealingLR"
      ]
    },
    {
      "cell_type": "code",
      "execution_count": 48,
      "metadata": {
        "colab": {},
        "colab_type": "code",
        "id": "vljeQe0aGY9X"
      },
      "outputs": [],
      "source": [
        "class SimCLRClassifierModule(pl.LightningModule):\n",
        "    def __init__(self, hparams):\n",
        "        super().__init__()\n",
        "        hparams = Namespace(**hparams) if isinstance(hparams, dict) else hparams\n",
        "        self.hyper_params = hparams\n",
        "        self.model = SimCLRClassifier(hparams.n_classes, hparams.freeze_base, \n",
        "                                      hparams.embeddings_path,\n",
        "                                      self.hyper_params.hidden_size)\n",
        "        self.loss = nn.CrossEntropyLoss()\n",
        "    \n",
        "    def total_steps(self):\n",
        "        return len(self.train_dataloader()) // self.hyper_params.epochs\n",
        "    \n",
        "    def preprocessing(seff):\n",
        "        return transforms.Compose([\n",
        "                transforms.ToTensor(),\n",
        "                transforms.Normalize(mean=[0.485, 0.456, 0.406], std=[0.229, 0.224, 0.225]),\n",
        "        ])\n",
        "    \n",
        "    def get_dataloader(self, split):\n",
        "        return DataLoader(STL10(\".\", split=split, transform=self.preprocessing()),\n",
        "                          batch_size=self.hyper_params.batch_size, \n",
        "                          shuffle=split==\"train\",\n",
        "                          num_workers=cpu_count(),\n",
        "                         drop_last=False)\n",
        "    \n",
        "    def train_dataloader(self):\n",
        "        return self.get_dataloader(\"train\")\n",
        "    \n",
        "    def val_dataloader(self):\n",
        "        return self.get_dataloader(\"test\")\n",
        "    \n",
        "    def forward(self, X):\n",
        "        return self.model(X)\n",
        "    \n",
        "    def step(self, batch, step_name = \"train\"):\n",
        "        X, y = batch\n",
        "        y_out = self.forward(X)\n",
        "        loss = self.loss(y_out, y)\n",
        "        loss_key = f\"{step_name}_loss\"\n",
        "        tensorboard_logs = {loss_key: loss}\n",
        "\n",
        "        return { (\"loss\" if step_name == \"train\" else loss_key): loss, 'log': tensorboard_logs,\n",
        "                        \"progress_bar\": {loss_key: loss}}\n",
        "    \n",
        "    def training_step(self, batch, batch_idx):\n",
        "        return self.step(batch, \"train\")\n",
        "    \n",
        "    def validation_step(self, batch, batch_idx):\n",
        "        return self.step(batch, \"val\")\n",
        "    \n",
        "    def test_step(self, batch, batch_idx):\n",
        "        return self.step(Batch, \"test\")\n",
        "    \n",
        "    def validation_end(self, outputs):\n",
        "        if len(outputs) == 0:\n",
        "            return {\"val_loss\": torch.tensor(0)}\n",
        "        else:\n",
        "            loss = torch.stack([x[\"val_loss\"] for x in outputs]).mean()\n",
        "            return {\"val_loss\": loss, \"log\": {\"val_loss\": loss}}\n",
        "\n",
        "    def configure_optimizers(self):\n",
        "        optimizer = RMSprop(self.model.parameters(), lr=self.hyper_params.lr)\n",
        "        schedulers = [\n",
        "            CosineAnnealingLR(optimizer, self.hyper_params.epochs)\n",
        "        ] if self.hyper_params.epochs > 1 else []\n",
        "        return [optimizer], schedulers"
      ]
    },
    {
      "cell_type": "code",
      "execution_count": 50,
      "metadata": {},
      "outputs": [
        {
          "ename": "TypeError",
          "evalue": "__init__() missing 1 required positional argument: 'hparams'",
          "output_type": "error",
          "traceback": [
            "\u001b[0;31m---------------------------------------------------------------------------\u001b[0m",
            "\u001b[0;31mTypeError\u001b[0m                                 Traceback (most recent call last)",
            "\u001b[0;32m/tmp/ipykernel_27652/3432176077.py\u001b[0m in \u001b[0;36m<module>\u001b[0;34m\u001b[0m\n\u001b[0;32m----> 1\u001b[0;31m \u001b[0mbase_model\u001b[0m \u001b[0;34m=\u001b[0m \u001b[0mImageEmbeddingModule\u001b[0m\u001b[0;34m.\u001b[0m\u001b[0mload_from_checkpoint\u001b[0m\u001b[0;34m(\u001b[0m\u001b[0mhparams_cls\u001b[0m\u001b[0;34m.\u001b[0m\u001b[0membeddings_path\u001b[0m\u001b[0;34m)\u001b[0m\u001b[0;34m.\u001b[0m\u001b[0mmodel\u001b[0m\u001b[0;34m\u001b[0m\u001b[0;34m\u001b[0m\u001b[0m\n\u001b[0m",
            "\u001b[0;32m/opt/conda/lib/python3.7/site-packages/pytorch_lightning/core/saving.py\u001b[0m in \u001b[0;36mload_from_checkpoint\u001b[0;34m(cls, checkpoint_path, map_location, hparams_file, strict, **kwargs)\u001b[0m\n\u001b[1;32m    159\u001b[0m         \u001b[0mcheckpoint\u001b[0m\u001b[0;34m[\u001b[0m\u001b[0mcls\u001b[0m\u001b[0;34m.\u001b[0m\u001b[0mCHECKPOINT_HYPER_PARAMS_KEY\u001b[0m\u001b[0;34m]\u001b[0m\u001b[0;34m.\u001b[0m\u001b[0mupdate\u001b[0m\u001b[0;34m(\u001b[0m\u001b[0mkwargs\u001b[0m\u001b[0;34m)\u001b[0m\u001b[0;34m\u001b[0m\u001b[0;34m\u001b[0m\u001b[0m\n\u001b[1;32m    160\u001b[0m \u001b[0;34m\u001b[0m\u001b[0m\n\u001b[0;32m--> 161\u001b[0;31m         \u001b[0mmodel\u001b[0m \u001b[0;34m=\u001b[0m \u001b[0mcls\u001b[0m\u001b[0;34m.\u001b[0m\u001b[0m_load_model_state\u001b[0m\u001b[0;34m(\u001b[0m\u001b[0mcheckpoint\u001b[0m\u001b[0;34m,\u001b[0m \u001b[0mstrict\u001b[0m\u001b[0;34m=\u001b[0m\u001b[0mstrict\u001b[0m\u001b[0;34m,\u001b[0m \u001b[0;34m**\u001b[0m\u001b[0mkwargs\u001b[0m\u001b[0;34m)\u001b[0m\u001b[0;34m\u001b[0m\u001b[0;34m\u001b[0m\u001b[0m\n\u001b[0m\u001b[1;32m    162\u001b[0m         \u001b[0;32mreturn\u001b[0m \u001b[0mmodel\u001b[0m\u001b[0;34m\u001b[0m\u001b[0;34m\u001b[0m\u001b[0m\n\u001b[1;32m    163\u001b[0m \u001b[0;34m\u001b[0m\u001b[0m\n",
            "\u001b[0;32m/opt/conda/lib/python3.7/site-packages/pytorch_lightning/core/saving.py\u001b[0m in \u001b[0;36m_load_model_state\u001b[0;34m(cls, checkpoint, strict, **cls_kwargs_new)\u001b[0m\n\u001b[1;32m    201\u001b[0m             \u001b[0m_cls_kwargs\u001b[0m \u001b[0;34m=\u001b[0m \u001b[0;34m{\u001b[0m\u001b[0mk\u001b[0m\u001b[0;34m:\u001b[0m \u001b[0mv\u001b[0m \u001b[0;32mfor\u001b[0m \u001b[0mk\u001b[0m\u001b[0;34m,\u001b[0m \u001b[0mv\u001b[0m \u001b[0;32min\u001b[0m \u001b[0m_cls_kwargs\u001b[0m\u001b[0;34m.\u001b[0m\u001b[0mitems\u001b[0m\u001b[0;34m(\u001b[0m\u001b[0;34m)\u001b[0m \u001b[0;32mif\u001b[0m \u001b[0mk\u001b[0m \u001b[0;32min\u001b[0m \u001b[0mcls_init_args_name\u001b[0m\u001b[0;34m}\u001b[0m\u001b[0;34m\u001b[0m\u001b[0;34m\u001b[0m\u001b[0m\n\u001b[1;32m    202\u001b[0m \u001b[0;34m\u001b[0m\u001b[0m\n\u001b[0;32m--> 203\u001b[0;31m         \u001b[0mmodel\u001b[0m \u001b[0;34m=\u001b[0m \u001b[0mcls\u001b[0m\u001b[0;34m(\u001b[0m\u001b[0;34m**\u001b[0m\u001b[0m_cls_kwargs\u001b[0m\u001b[0;34m)\u001b[0m\u001b[0;34m\u001b[0m\u001b[0;34m\u001b[0m\u001b[0m\n\u001b[0m\u001b[1;32m    204\u001b[0m \u001b[0;34m\u001b[0m\u001b[0m\n\u001b[1;32m    205\u001b[0m         \u001b[0;31m# give model a chance to load something\u001b[0m\u001b[0;34m\u001b[0m\u001b[0;34m\u001b[0m\u001b[0;34m\u001b[0m\u001b[0m\n",
            "\u001b[0;31mTypeError\u001b[0m: __init__() missing 1 required positional argument: 'hparams'"
          ]
        }
      ],
      "source": [
        "base_model = ImageEmbeddingModule.load_from_checkpoint(hparams_cls.embeddings_path).model"
      ]
    },
    {
      "cell_type": "markdown",
      "metadata": {
        "colab_type": "text",
        "id": "KUQAMtgfGY9Y"
      },
      "source": [
        "> It's worth to mention here that training with frozen base model gives a great performance boost during training as the gradients needs to be calculated only for the small portion of the whole network. Additionaly, by utilizing good embeddings, only a few epochs are required to reach good quality classifier with single linear projection."
      ]
    },
    {
      "cell_type": "code",
      "execution_count": 49,
      "metadata": {
        "colab": {},
        "colab_type": "code",
        "id": "MKkq3sw4GY9Y",
        "outputId": "e198491e-f057-4106-9eae-f471555a9fc0"
      },
      "outputs": [
        {
          "ename": "TypeError",
          "evalue": "__init__() missing 1 required positional argument: 'hparams'",
          "output_type": "error",
          "traceback": [
            "\u001b[0;31m---------------------------------------------------------------------------\u001b[0m",
            "\u001b[0;31mTypeError\u001b[0m                                 Traceback (most recent call last)",
            "\u001b[0;32m/tmp/ipykernel_27652/376221887.py\u001b[0m in \u001b[0;36m<module>\u001b[0;34m\u001b[0m\n\u001b[1;32m      8\u001b[0m     \u001b[0mhidden_size\u001b[0m\u001b[0;34m=\u001b[0m\u001b[0;36m512\u001b[0m\u001b[0;34m\u001b[0m\u001b[0;34m\u001b[0m\u001b[0m\n\u001b[1;32m      9\u001b[0m )\n\u001b[0;32m---> 10\u001b[0;31m \u001b[0mmodule\u001b[0m \u001b[0;34m=\u001b[0m \u001b[0mSimCLRClassifierModule\u001b[0m\u001b[0;34m(\u001b[0m\u001b[0mhparams_cls\u001b[0m\u001b[0;34m)\u001b[0m\u001b[0;34m\u001b[0m\u001b[0;34m\u001b[0m\u001b[0m\n\u001b[0m\u001b[1;32m     11\u001b[0m \u001b[0mtrainer\u001b[0m \u001b[0;34m=\u001b[0m \u001b[0mpl\u001b[0m\u001b[0;34m.\u001b[0m\u001b[0mTrainer\u001b[0m\u001b[0;34m(\u001b[0m\u001b[0mgpus\u001b[0m\u001b[0;34m=\u001b[0m\u001b[0;36m1\u001b[0m\u001b[0;34m,\u001b[0m \u001b[0mmax_epochs\u001b[0m\u001b[0;34m=\u001b[0m\u001b[0mhparams_cls\u001b[0m\u001b[0;34m.\u001b[0m\u001b[0mepochs\u001b[0m\u001b[0;34m)\u001b[0m\u001b[0;34m\u001b[0m\u001b[0;34m\u001b[0m\u001b[0m\n\u001b[1;32m     12\u001b[0m \u001b[0;31m# Uncomment for W&B integration\u001b[0m\u001b[0;34m\u001b[0m\u001b[0;34m\u001b[0m\u001b[0;34m\u001b[0m\u001b[0m\n",
            "\u001b[0;32m/tmp/ipykernel_27652/3630899728.py\u001b[0m in \u001b[0;36m__init__\u001b[0;34m(self, hparams)\u001b[0m\n\u001b[1;32m      6\u001b[0m         self.model = SimCLRClassifier(hparams.n_classes, hparams.freeze_base, \n\u001b[1;32m      7\u001b[0m                                       \u001b[0mhparams\u001b[0m\u001b[0;34m.\u001b[0m\u001b[0membeddings_path\u001b[0m\u001b[0;34m,\u001b[0m\u001b[0;34m\u001b[0m\u001b[0;34m\u001b[0m\u001b[0m\n\u001b[0;32m----> 8\u001b[0;31m                                       self.hyper_params.hidden_size)\n\u001b[0m\u001b[1;32m      9\u001b[0m         \u001b[0mself\u001b[0m\u001b[0;34m.\u001b[0m\u001b[0mloss\u001b[0m \u001b[0;34m=\u001b[0m \u001b[0mnn\u001b[0m\u001b[0;34m.\u001b[0m\u001b[0mCrossEntropyLoss\u001b[0m\u001b[0;34m(\u001b[0m\u001b[0;34m)\u001b[0m\u001b[0;34m\u001b[0m\u001b[0;34m\u001b[0m\u001b[0m\n\u001b[1;32m     10\u001b[0m \u001b[0;34m\u001b[0m\u001b[0m\n",
            "\u001b[0;32m/tmp/ipykernel_27652/1444816884.py\u001b[0m in \u001b[0;36m__init__\u001b[0;34m(self, n_classes, freeze_base, embeddings_model_path, hidden_size)\u001b[0m\n\u001b[1;32m      3\u001b[0m         \u001b[0msuper\u001b[0m\u001b[0;34m(\u001b[0m\u001b[0;34m)\u001b[0m\u001b[0;34m.\u001b[0m\u001b[0m__init__\u001b[0m\u001b[0;34m(\u001b[0m\u001b[0;34m)\u001b[0m\u001b[0;34m\u001b[0m\u001b[0;34m\u001b[0m\u001b[0m\n\u001b[1;32m      4\u001b[0m \u001b[0;34m\u001b[0m\u001b[0m\n\u001b[0;32m----> 5\u001b[0;31m         \u001b[0mbase_model\u001b[0m \u001b[0;34m=\u001b[0m \u001b[0mImageEmbeddingModule\u001b[0m\u001b[0;34m.\u001b[0m\u001b[0mload_from_checkpoint\u001b[0m\u001b[0;34m(\u001b[0m\u001b[0membeddings_model_path\u001b[0m\u001b[0;34m)\u001b[0m\u001b[0;34m.\u001b[0m\u001b[0mmodel\u001b[0m\u001b[0;34m\u001b[0m\u001b[0;34m\u001b[0m\u001b[0m\n\u001b[0m\u001b[1;32m      6\u001b[0m \u001b[0;34m\u001b[0m\u001b[0m\n\u001b[1;32m      7\u001b[0m         \u001b[0mself\u001b[0m\u001b[0;34m.\u001b[0m\u001b[0membeddings\u001b[0m \u001b[0;34m=\u001b[0m \u001b[0mbase_model\u001b[0m\u001b[0;34m.\u001b[0m\u001b[0membedding\u001b[0m\u001b[0;34m\u001b[0m\u001b[0;34m\u001b[0m\u001b[0m\n",
            "\u001b[0;32m/opt/conda/lib/python3.7/site-packages/pytorch_lightning/core/saving.py\u001b[0m in \u001b[0;36mload_from_checkpoint\u001b[0;34m(cls, checkpoint_path, map_location, hparams_file, strict, **kwargs)\u001b[0m\n\u001b[1;32m    159\u001b[0m         \u001b[0mcheckpoint\u001b[0m\u001b[0;34m[\u001b[0m\u001b[0mcls\u001b[0m\u001b[0;34m.\u001b[0m\u001b[0mCHECKPOINT_HYPER_PARAMS_KEY\u001b[0m\u001b[0;34m]\u001b[0m\u001b[0;34m.\u001b[0m\u001b[0mupdate\u001b[0m\u001b[0;34m(\u001b[0m\u001b[0mkwargs\u001b[0m\u001b[0;34m)\u001b[0m\u001b[0;34m\u001b[0m\u001b[0;34m\u001b[0m\u001b[0m\n\u001b[1;32m    160\u001b[0m \u001b[0;34m\u001b[0m\u001b[0m\n\u001b[0;32m--> 161\u001b[0;31m         \u001b[0mmodel\u001b[0m \u001b[0;34m=\u001b[0m \u001b[0mcls\u001b[0m\u001b[0;34m.\u001b[0m\u001b[0m_load_model_state\u001b[0m\u001b[0;34m(\u001b[0m\u001b[0mcheckpoint\u001b[0m\u001b[0;34m,\u001b[0m \u001b[0mstrict\u001b[0m\u001b[0;34m=\u001b[0m\u001b[0mstrict\u001b[0m\u001b[0;34m,\u001b[0m \u001b[0;34m**\u001b[0m\u001b[0mkwargs\u001b[0m\u001b[0;34m)\u001b[0m\u001b[0;34m\u001b[0m\u001b[0;34m\u001b[0m\u001b[0m\n\u001b[0m\u001b[1;32m    162\u001b[0m         \u001b[0;32mreturn\u001b[0m \u001b[0mmodel\u001b[0m\u001b[0;34m\u001b[0m\u001b[0;34m\u001b[0m\u001b[0m\n\u001b[1;32m    163\u001b[0m \u001b[0;34m\u001b[0m\u001b[0m\n",
            "\u001b[0;32m/opt/conda/lib/python3.7/site-packages/pytorch_lightning/core/saving.py\u001b[0m in \u001b[0;36m_load_model_state\u001b[0;34m(cls, checkpoint, strict, **cls_kwargs_new)\u001b[0m\n\u001b[1;32m    201\u001b[0m             \u001b[0m_cls_kwargs\u001b[0m \u001b[0;34m=\u001b[0m \u001b[0;34m{\u001b[0m\u001b[0mk\u001b[0m\u001b[0;34m:\u001b[0m \u001b[0mv\u001b[0m \u001b[0;32mfor\u001b[0m \u001b[0mk\u001b[0m\u001b[0;34m,\u001b[0m \u001b[0mv\u001b[0m \u001b[0;32min\u001b[0m \u001b[0m_cls_kwargs\u001b[0m\u001b[0;34m.\u001b[0m\u001b[0mitems\u001b[0m\u001b[0;34m(\u001b[0m\u001b[0;34m)\u001b[0m \u001b[0;32mif\u001b[0m \u001b[0mk\u001b[0m \u001b[0;32min\u001b[0m \u001b[0mcls_init_args_name\u001b[0m\u001b[0;34m}\u001b[0m\u001b[0;34m\u001b[0m\u001b[0;34m\u001b[0m\u001b[0m\n\u001b[1;32m    202\u001b[0m \u001b[0;34m\u001b[0m\u001b[0m\n\u001b[0;32m--> 203\u001b[0;31m         \u001b[0mmodel\u001b[0m \u001b[0;34m=\u001b[0m \u001b[0mcls\u001b[0m\u001b[0;34m(\u001b[0m\u001b[0;34m**\u001b[0m\u001b[0m_cls_kwargs\u001b[0m\u001b[0;34m)\u001b[0m\u001b[0;34m\u001b[0m\u001b[0;34m\u001b[0m\u001b[0m\n\u001b[0m\u001b[1;32m    204\u001b[0m \u001b[0;34m\u001b[0m\u001b[0m\n\u001b[1;32m    205\u001b[0m         \u001b[0;31m# give model a chance to load something\u001b[0m\u001b[0;34m\u001b[0m\u001b[0;34m\u001b[0m\u001b[0;34m\u001b[0m\u001b[0m\n",
            "\u001b[0;31mTypeError\u001b[0m: __init__() missing 1 required positional argument: 'hparams'"
          ]
        }
      ],
      "source": [
        "hparams_cls = Namespace(\n",
        "    lr=1e-3,\n",
        "    epochs=5,\n",
        "    batch_size=160,\n",
        "    n_classes=10,\n",
        "    freeze_base=True,\n",
        "    embeddings_path=\"./efficientnet-b0-stl10-embeddings.ckpt\",\n",
        "    hidden_size=512\n",
        ")\n",
        "module = SimCLRClassifierModule(hparams_cls)\n",
        "trainer = pl.Trainer(gpus=1, max_epochs=hparams_cls.epochs)\n",
        "# Uncomment for W&B integration\n",
        "# logger = WandbLogger(project=\"simclr-blogpost-classifier\")\n",
        "# logger.watch(module, log=\"all\", log_freq=50)\n",
        "# trainer = pl.Trainer(gpus=1, max_epochs=hparams_cls.epochs, logger=logger)"
      ]
    },
    {
      "cell_type": "code",
      "execution_count": null,
      "metadata": {
        "colab": {
          "referenced_widgets": [
            "4530667ea22b49f3a4e157fb9260e02f"
          ]
        },
        "colab_type": "code",
        "id": "1Tw4L2AOGY9a",
        "outputId": "1aa68adf-e0db-476f-9cf2-67a488c2666d"
      },
      "outputs": [
        {
          "ename": "",
          "evalue": "",
          "output_type": "error",
          "traceback": [
            "\u001b[1;31mRunning cells with 'Python 3.8.10 64-bit' requires ipykernel package.\n",
            "Run the following command to install 'ipykernel' into the Python environment. \n",
            "Command: '/bin/python3 -m pip install ipykernel -U --user --force-reinstall'"
          ]
        }
      ],
      "source": [
        "lr_find_cls = trainer.lr_find(module)"
      ]
    },
    {
      "cell_type": "code",
      "execution_count": null,
      "metadata": {
        "colab": {},
        "colab_type": "code",
        "id": "Ev0VcY_9GY9c",
        "outputId": "0c4162f6-9b4d-4a62-c6ae-3afb6e92ca95"
      },
      "outputs": [
        {
          "ename": "",
          "evalue": "",
          "output_type": "error",
          "traceback": [
            "\u001b[1;31mRunning cells with 'Python 3.8.10 64-bit' requires ipykernel package.\n",
            "Run the following command to install 'ipykernel' into the Python environment. \n",
            "Command: '/bin/python3 -m pip install ipykernel -U --user --force-reinstall'"
          ]
        }
      ],
      "source": [
        "lr_find_cls.plot(show=False, suggest=True)\n",
        "lr_find_cls.suggestion()"
      ]
    },
    {
      "cell_type": "code",
      "execution_count": null,
      "metadata": {
        "colab": {},
        "colab_type": "code",
        "id": "CLvAVjDRGY9e",
        "outputId": "d061a1eb-de50-42a9-e63d-e862b3f44f04"
      },
      "outputs": [
        {
          "ename": "",
          "evalue": "",
          "output_type": "error",
          "traceback": [
            "\u001b[1;31mRunning cells with 'Python 3.8.10 64-bit' requires ipykernel package.\n",
            "Run the following command to install 'ipykernel' into the Python environment. \n",
            "Command: '/bin/python3 -m pip install ipykernel -U --user --force-reinstall'"
          ]
        }
      ],
      "source": [
        "hparams_cls = Namespace(\n",
        "    lr=0.003981071705534969,\n",
        "    epochs=5,\n",
        "    batch_size=160,\n",
        "    n_classes=10,\n",
        "    freeze_base=True,\n",
        "    embeddings_path=\"./efficientnet-b0-stl10-embeddings.ckpt\",\n",
        "    hidden_size=512\n",
        ")\n",
        "module = SimCLRClassifierModule(hparams_cls)"
      ]
    },
    {
      "cell_type": "code",
      "execution_count": null,
      "metadata": {
        "colab": {
          "referenced_widgets": [
            "",
            "4030a285e27945cba4e9c1bfa12e4e25"
          ]
        },
        "colab_type": "code",
        "id": "pr0fPPunGY9g",
        "outputId": "1d7aabc9-13da-48c4-873d-7bde1f02f431"
      },
      "outputs": [
        {
          "ename": "",
          "evalue": "",
          "output_type": "error",
          "traceback": [
            "\u001b[1;31mRunning cells with 'Python 3.8.10 64-bit' requires ipykernel package.\n",
            "Run the following command to install 'ipykernel' into the Python environment. \n",
            "Command: '/bin/python3 -m pip install ipykernel -U --user --force-reinstall'"
          ]
        }
      ],
      "source": [
        "trainer.fit(module)"
      ]
    },
    {
      "cell_type": "code",
      "execution_count": null,
      "metadata": {
        "colab": {},
        "colab_type": "code",
        "id": "VvejFEk9GY9j"
      },
      "outputs": [
        {
          "ename": "",
          "evalue": "",
          "output_type": "error",
          "traceback": [
            "\u001b[1;31mRunning cells with 'Python 3.8.10 64-bit' requires ipykernel package.\n",
            "Run the following command to install 'ipykernel' into the Python environment. \n",
            "Command: '/bin/python3 -m pip install ipykernel -U --user --force-reinstall'"
          ]
        }
      ],
      "source": [
        "from sklearn.metrics import classification_report"
      ]
    },
    {
      "cell_type": "markdown",
      "metadata": {
        "colab_type": "text",
        "id": "_hMSIaArGY9l"
      },
      "source": [
        "### Evaluation\n",
        "Here I define utility function for evaluating the model using provided data loader:"
      ]
    },
    {
      "cell_type": "code",
      "execution_count": null,
      "metadata": {
        "colab": {},
        "colab_type": "code",
        "id": "sHUngTyiGY9l"
      },
      "outputs": [
        {
          "ename": "",
          "evalue": "",
          "output_type": "error",
          "traceback": [
            "\u001b[1;31mRunning cells with 'Python 3.8.10 64-bit' requires ipykernel package.\n",
            "Run the following command to install 'ipykernel' into the Python environment. \n",
            "Command: '/bin/python3 -m pip install ipykernel -U --user --force-reinstall'"
          ]
        }
      ],
      "source": [
        "def evaluate(data_loader, module):\n",
        "    with torch.no_grad():\n",
        "        progress = [\"/\", \"-\", \"\\\\\", \"|\", \"/\", \"-\", \"\\\\\", \"|\"]\n",
        "        module.eval().cuda()\n",
        "        true_y, pred_y = [], []\n",
        "        for i, batch_ in enumerate(data_loader):\n",
        "            X, y = batch_\n",
        "            print(progress[i % len(progress)], end=\"\\r\")\n",
        "            y_pred = torch.argmax(module(X.cuda()), dim=1)\n",
        "            true_y.extend(y.cpu())\n",
        "            pred_y.extend(y_pred.cpu())\n",
        "        print(classification_report(true_y, pred_y, digits=3))\n",
        "        return true_y, pred_y"
      ]
    },
    {
      "cell_type": "code",
      "execution_count": null,
      "metadata": {
        "colab": {},
        "colab_type": "code",
        "id": "FLyle_SGGY9n",
        "outputId": "e5bcf38c-afcf-456b-9128-5e8e258444c2"
      },
      "outputs": [
        {
          "ename": "",
          "evalue": "",
          "output_type": "error",
          "traceback": [
            "\u001b[1;31mRunning cells with 'Python 3.8.10 64-bit' requires ipykernel package.\n",
            "Run the following command to install 'ipykernel' into the Python environment. \n",
            "Command: '/bin/python3 -m pip install ipykernel -U --user --force-reinstall'"
          ]
        }
      ],
      "source": [
        "_ = evaluate(module.val_dataloader(), module)"
      ]
    },
    {
      "cell_type": "markdown",
      "metadata": {
        "colab_type": "text",
        "id": "uNbRlDOEGY9q"
      },
      "source": [
        "## Summary\n",
        "I hope you find my explanation of SimCLR framework useful. Feel free to post any comment, fork the notebook and share with ML community!\n",
        "\n",
        "## Additional links and resources\n",
        "* SimCLR paper - <a href=\"https://arxiv.org/pdf/2002.05709.pdf\" target=\"blank\">https://arxiv.org/pdf/2002.05709.pdf</a>\n",
        "* EfficientNet paper - <a href=\"https://arxiv.org/abs/1905.11946\">https://arxiv.org/abs/1905.11946</a>\n",
        "* this notebook on GitHub - \n",
        "* this notebook on Google Colab - \n",
        "\n"
      ]
    },
    {
      "cell_type": "code",
      "execution_count": null,
      "metadata": {
        "colab": {},
        "colab_type": "code",
        "id": "RImDfAeBGY9q"
      },
      "outputs": [
        {
          "ename": "",
          "evalue": "",
          "output_type": "error",
          "traceback": [
            "\u001b[1;31mRunning cells with 'Python 3.8.10 64-bit' requires ipykernel package.\n",
            "Run the following command to install 'ipykernel' into the Python environment. \n",
            "Command: '/bin/python3 -m pip install ipykernel -U --user --force-reinstall'"
          ]
        }
      ],
      "source": []
    }
  ],
  "metadata": {
    "accelerator": "GPU",
    "colab": {
      "name": "SimCLR-Blogpost-zablo.net.ipynb",
      "provenance": []
    },
    "kernelspec": {
      "display_name": "Python [conda env:root] *",
      "language": "python",
      "name": "conda-root-py"
    },
    "language_info": {
      "codemirror_mode": {
        "name": "ipython",
        "version": 3
      },
      "file_extension": ".py",
      "mimetype": "text/x-python",
      "name": "python",
      "nbconvert_exporter": "python",
      "pygments_lexer": "ipython3",
      "version": "3.7.10"
    },
    "widgets": {
      "application/vnd.jupyter.widget-state+json": {
        "01c7832e21554cfda7c0b759a59f4063": {
          "model_module": "@jupyter-widgets/controls",
          "model_name": "ProgressStyleModel",
          "state": {
            "_model_module": "@jupyter-widgets/controls",
            "_model_module_version": "1.5.0",
            "_model_name": "ProgressStyleModel",
            "_view_count": null,
            "_view_module": "@jupyter-widgets/base",
            "_view_module_version": "1.2.0",
            "_view_name": "StyleView",
            "bar_color": null,
            "description_width": "initial"
          }
        },
        "060fa39300cc4a488d846900165600ad": {
          "model_module": "@jupyter-widgets/controls",
          "model_name": "ProgressStyleModel",
          "state": {
            "_model_module": "@jupyter-widgets/controls",
            "_model_module_version": "1.5.0",
            "_model_name": "ProgressStyleModel",
            "_view_count": null,
            "_view_module": "@jupyter-widgets/base",
            "_view_module_version": "1.2.0",
            "_view_name": "StyleView",
            "bar_color": null,
            "description_width": "initial"
          }
        },
        "115e638d13d64a2ba4cd899451a1c005": {
          "model_module": "@jupyter-widgets/base",
          "model_name": "LayoutModel",
          "state": {
            "_model_module": "@jupyter-widgets/base",
            "_model_module_version": "1.2.0",
            "_model_name": "LayoutModel",
            "_view_count": null,
            "_view_module": "@jupyter-widgets/base",
            "_view_module_version": "1.2.0",
            "_view_name": "LayoutView",
            "align_content": null,
            "align_items": null,
            "align_self": null,
            "border": null,
            "bottom": null,
            "display": null,
            "flex": "2",
            "flex_flow": null,
            "grid_area": null,
            "grid_auto_columns": null,
            "grid_auto_flow": null,
            "grid_auto_rows": null,
            "grid_column": null,
            "grid_gap": null,
            "grid_row": null,
            "grid_template_areas": null,
            "grid_template_columns": null,
            "grid_template_rows": null,
            "height": null,
            "justify_content": null,
            "justify_items": null,
            "left": null,
            "margin": null,
            "max_height": null,
            "max_width": null,
            "min_height": null,
            "min_width": null,
            "object_fit": null,
            "object_position": null,
            "order": null,
            "overflow": null,
            "overflow_x": null,
            "overflow_y": null,
            "padding": null,
            "right": null,
            "top": null,
            "visibility": null,
            "width": null
          }
        },
        "11759fc12080455094624b153eb35dce": {
          "model_module": "@jupyter-widgets/controls",
          "model_name": "ProgressStyleModel",
          "state": {
            "_model_module": "@jupyter-widgets/controls",
            "_model_module_version": "1.5.0",
            "_model_name": "ProgressStyleModel",
            "_view_count": null,
            "_view_module": "@jupyter-widgets/base",
            "_view_module_version": "1.2.0",
            "_view_name": "StyleView",
            "bar_color": null,
            "description_width": "initial"
          }
        },
        "117c99eccbe94c78b630849a9db450c2": {
          "model_module": "@jupyter-widgets/base",
          "model_name": "LayoutModel",
          "state": {
            "_model_module": "@jupyter-widgets/base",
            "_model_module_version": "1.2.0",
            "_model_name": "LayoutModel",
            "_view_count": null,
            "_view_module": "@jupyter-widgets/base",
            "_view_module_version": "1.2.0",
            "_view_name": "LayoutView",
            "align_content": null,
            "align_items": null,
            "align_self": null,
            "border": null,
            "bottom": null,
            "display": "inline-flex",
            "flex": null,
            "flex_flow": "row wrap",
            "grid_area": null,
            "grid_auto_columns": null,
            "grid_auto_flow": null,
            "grid_auto_rows": null,
            "grid_column": null,
            "grid_gap": null,
            "grid_row": null,
            "grid_template_areas": null,
            "grid_template_columns": null,
            "grid_template_rows": null,
            "height": null,
            "justify_content": null,
            "justify_items": null,
            "left": null,
            "margin": null,
            "max_height": null,
            "max_width": null,
            "min_height": null,
            "min_width": null,
            "object_fit": null,
            "object_position": null,
            "order": null,
            "overflow": null,
            "overflow_x": null,
            "overflow_y": null,
            "padding": null,
            "right": null,
            "top": null,
            "visibility": null,
            "width": "100%"
          }
        },
        "12d98e263dbd4950b82e76d7c28995bd": {
          "model_module": "@jupyter-widgets/base",
          "model_name": "LayoutModel",
          "state": {
            "_model_module": "@jupyter-widgets/base",
            "_model_module_version": "1.2.0",
            "_model_name": "LayoutModel",
            "_view_count": null,
            "_view_module": "@jupyter-widgets/base",
            "_view_module_version": "1.2.0",
            "_view_name": "LayoutView",
            "align_content": null,
            "align_items": null,
            "align_self": null,
            "border": null,
            "bottom": null,
            "display": null,
            "flex": null,
            "flex_flow": null,
            "grid_area": null,
            "grid_auto_columns": null,
            "grid_auto_flow": null,
            "grid_auto_rows": null,
            "grid_column": null,
            "grid_gap": null,
            "grid_row": null,
            "grid_template_areas": null,
            "grid_template_columns": null,
            "grid_template_rows": null,
            "height": null,
            "justify_content": null,
            "justify_items": null,
            "left": null,
            "margin": null,
            "max_height": null,
            "max_width": null,
            "min_height": null,
            "min_width": null,
            "object_fit": null,
            "object_position": null,
            "order": null,
            "overflow": null,
            "overflow_x": null,
            "overflow_y": null,
            "padding": null,
            "right": null,
            "top": null,
            "visibility": null,
            "width": null
          }
        },
        "1a5ed5e067344488a536d7895d089b6f": {
          "model_module": "@jupyter-widgets/controls",
          "model_name": "DescriptionStyleModel",
          "state": {
            "_model_module": "@jupyter-widgets/controls",
            "_model_module_version": "1.5.0",
            "_model_name": "DescriptionStyleModel",
            "_view_count": null,
            "_view_module": "@jupyter-widgets/base",
            "_view_module_version": "1.2.0",
            "_view_name": "StyleView",
            "description_width": ""
          }
        },
        "1c1c1eba0d5e436ba66de315449294e3": {
          "model_module": "@jupyter-widgets/controls",
          "model_name": "DescriptionStyleModel",
          "state": {
            "_model_module": "@jupyter-widgets/controls",
            "_model_module_version": "1.5.0",
            "_model_name": "DescriptionStyleModel",
            "_view_count": null,
            "_view_module": "@jupyter-widgets/base",
            "_view_module_version": "1.2.0",
            "_view_name": "StyleView",
            "description_width": ""
          }
        },
        "2020dfc1254e42f8867d99877903bea5": {
          "model_module": "@jupyter-widgets/controls",
          "model_name": "ProgressStyleModel",
          "state": {
            "_model_module": "@jupyter-widgets/controls",
            "_model_module_version": "1.5.0",
            "_model_name": "ProgressStyleModel",
            "_view_count": null,
            "_view_module": "@jupyter-widgets/base",
            "_view_module_version": "1.2.0",
            "_view_name": "StyleView",
            "bar_color": null,
            "description_width": "initial"
          }
        },
        "26df9334360a4e9e96a77e8cd4942809": {
          "model_module": "@jupyter-widgets/base",
          "model_name": "LayoutModel",
          "state": {
            "_model_module": "@jupyter-widgets/base",
            "_model_module_version": "1.2.0",
            "_model_name": "LayoutModel",
            "_view_count": null,
            "_view_module": "@jupyter-widgets/base",
            "_view_module_version": "1.2.0",
            "_view_name": "LayoutView",
            "align_content": null,
            "align_items": null,
            "align_self": null,
            "border": null,
            "bottom": null,
            "display": null,
            "flex": null,
            "flex_flow": null,
            "grid_area": null,
            "grid_auto_columns": null,
            "grid_auto_flow": null,
            "grid_auto_rows": null,
            "grid_column": null,
            "grid_gap": null,
            "grid_row": null,
            "grid_template_areas": null,
            "grid_template_columns": null,
            "grid_template_rows": null,
            "height": null,
            "justify_content": null,
            "justify_items": null,
            "left": null,
            "margin": null,
            "max_height": null,
            "max_width": null,
            "min_height": null,
            "min_width": null,
            "object_fit": null,
            "object_position": null,
            "order": null,
            "overflow": null,
            "overflow_x": null,
            "overflow_y": null,
            "padding": null,
            "right": null,
            "top": null,
            "visibility": null,
            "width": null
          }
        },
        "27cfa39fbd6441548cf77d3e8735485d": {
          "model_module": "@jupyter-widgets/base",
          "model_name": "LayoutModel",
          "state": {
            "_model_module": "@jupyter-widgets/base",
            "_model_module_version": "1.2.0",
            "_model_name": "LayoutModel",
            "_view_count": null,
            "_view_module": "@jupyter-widgets/base",
            "_view_module_version": "1.2.0",
            "_view_name": "LayoutView",
            "align_content": null,
            "align_items": null,
            "align_self": null,
            "border": null,
            "bottom": null,
            "display": null,
            "flex": "2",
            "flex_flow": null,
            "grid_area": null,
            "grid_auto_columns": null,
            "grid_auto_flow": null,
            "grid_auto_rows": null,
            "grid_column": null,
            "grid_gap": null,
            "grid_row": null,
            "grid_template_areas": null,
            "grid_template_columns": null,
            "grid_template_rows": null,
            "height": null,
            "justify_content": null,
            "justify_items": null,
            "left": null,
            "margin": null,
            "max_height": null,
            "max_width": null,
            "min_height": null,
            "min_width": null,
            "object_fit": null,
            "object_position": null,
            "order": null,
            "overflow": null,
            "overflow_x": null,
            "overflow_y": null,
            "padding": null,
            "right": null,
            "top": null,
            "visibility": null,
            "width": null
          }
        },
        "2d139b573db54e6f90b5e545de34f28d": {
          "model_module": "@jupyter-widgets/controls",
          "model_name": "FloatProgressModel",
          "state": {
            "_dom_classes": [],
            "_model_module": "@jupyter-widgets/controls",
            "_model_module_version": "1.5.0",
            "_model_name": "FloatProgressModel",
            "_view_count": null,
            "_view_module": "@jupyter-widgets/controls",
            "_view_module_version": "1.5.0",
            "_view_name": "ProgressView",
            "bar_style": "info",
            "description": "Validating: 100%",
            "description_tooltip": null,
            "layout": "IPY_MODEL_115e638d13d64a2ba4cd899451a1c005",
            "max": 1,
            "min": 0,
            "orientation": "horizontal",
            "style": "IPY_MODEL_060fa39300cc4a488d846900165600ad",
            "value": 1
          }
        },
        "313feecc97084ace93710d8e11237d06": {
          "model_module": "@jupyter-widgets/controls",
          "model_name": "HBoxModel",
          "state": {
            "_dom_classes": [],
            "_model_module": "@jupyter-widgets/controls",
            "_model_module_version": "1.5.0",
            "_model_name": "HBoxModel",
            "_view_count": null,
            "_view_module": "@jupyter-widgets/controls",
            "_view_module_version": "1.5.0",
            "_view_name": "HBoxView",
            "box_style": "",
            "children": [
              "IPY_MODEL_2d139b573db54e6f90b5e545de34f28d",
              "IPY_MODEL_a8a0c1847cec4eef98264aea6b42308c"
            ],
            "layout": "IPY_MODEL_e611467f4c544611aade87ee71d60914"
          }
        },
        "33ba2cf3460542f4a632e05696351dee": {
          "model_module": "@jupyter-widgets/controls",
          "model_name": "HTMLModel",
          "state": {
            "_dom_classes": [],
            "_model_module": "@jupyter-widgets/controls",
            "_model_module_version": "1.5.0",
            "_model_name": "HTMLModel",
            "_view_count": null,
            "_view_module": "@jupyter-widgets/controls",
            "_view_module_version": "1.5.0",
            "_view_name": "HTMLView",
            "description": "",
            "description_tooltip": null,
            "layout": "IPY_MODEL_85d7b051ac3446d9b72a98c4c331599d",
            "placeholder": "​",
            "style": "IPY_MODEL_fe9475251c4042aca5c598b33549aa40",
            "value": " 99/131 [01:54&lt;00:37,  1.16s/it, loss=4.235, v_num=0, train_loss=4.23]"
          }
        },
        "3733cce25e7c40cb83c7424036e4f372": {
          "model_module": "@jupyter-widgets/controls",
          "model_name": "FloatProgressModel",
          "state": {
            "_dom_classes": [],
            "_model_module": "@jupyter-widgets/controls",
            "_model_module_version": "1.5.0",
            "_model_name": "FloatProgressModel",
            "_view_count": null,
            "_view_module": "@jupyter-widgets/controls",
            "_view_module_version": "1.5.0",
            "_view_name": "ProgressView",
            "bar_style": "info",
            "description": "Validation sanity check: 100%",
            "description_tooltip": null,
            "layout": "IPY_MODEL_27cfa39fbd6441548cf77d3e8735485d",
            "max": 1,
            "min": 0,
            "orientation": "horizontal",
            "style": "IPY_MODEL_eee8913da3b04fcaa27093426b25fd38",
            "value": 1
          }
        },
        "3974604f19b840b2a09ebd284495ed53": {
          "model_module": "@jupyter-widgets/controls",
          "model_name": "HBoxModel",
          "state": {
            "_dom_classes": [],
            "_model_module": "@jupyter-widgets/controls",
            "_model_module_version": "1.5.0",
            "_model_name": "HBoxModel",
            "_view_count": null,
            "_view_module": "@jupyter-widgets/controls",
            "_view_module_version": "1.5.0",
            "_view_name": "HBoxView",
            "box_style": "",
            "children": [
              "IPY_MODEL_e3917ebbc51e487481f66c8df68316ce",
              "IPY_MODEL_33ba2cf3460542f4a632e05696351dee"
            ],
            "layout": "IPY_MODEL_117c99eccbe94c78b630849a9db450c2"
          }
        },
        "3a2b9cb4f7a74d27b8e7ee513cea5bab": {
          "model_module": "@jupyter-widgets/controls",
          "model_name": "HBoxModel",
          "state": {
            "_dom_classes": [],
            "_model_module": "@jupyter-widgets/controls",
            "_model_module_version": "1.5.0",
            "_model_name": "HBoxModel",
            "_view_count": null,
            "_view_module": "@jupyter-widgets/controls",
            "_view_module_version": "1.5.0",
            "_view_name": "HBoxView",
            "box_style": "",
            "children": [
              "IPY_MODEL_672931e8cf7c40cb8218329823311c58",
              "IPY_MODEL_9ba43c03f1964527b1d8e3487abd2fad"
            ],
            "layout": "IPY_MODEL_63a1def182a5493cb8b6bfdb7a615b21"
          }
        },
        "4b718bdfdedd440a9308a585af05eaaf": {
          "model_module": "@jupyter-widgets/base",
          "model_name": "LayoutModel",
          "state": {
            "_model_module": "@jupyter-widgets/base",
            "_model_module_version": "1.2.0",
            "_model_name": "LayoutModel",
            "_view_count": null,
            "_view_module": "@jupyter-widgets/base",
            "_view_module_version": "1.2.0",
            "_view_name": "LayoutView",
            "align_content": null,
            "align_items": null,
            "align_self": null,
            "border": null,
            "bottom": null,
            "display": null,
            "flex": null,
            "flex_flow": null,
            "grid_area": null,
            "grid_auto_columns": null,
            "grid_auto_flow": null,
            "grid_auto_rows": null,
            "grid_column": null,
            "grid_gap": null,
            "grid_row": null,
            "grid_template_areas": null,
            "grid_template_columns": null,
            "grid_template_rows": null,
            "height": null,
            "justify_content": null,
            "justify_items": null,
            "left": null,
            "margin": null,
            "max_height": null,
            "max_width": null,
            "min_height": null,
            "min_width": null,
            "object_fit": null,
            "object_position": null,
            "order": null,
            "overflow": null,
            "overflow_x": null,
            "overflow_y": null,
            "padding": null,
            "right": null,
            "top": null,
            "visibility": null,
            "width": null
          }
        },
        "53d6d9ee2c2f493a8bfe5269490736d5": {
          "model_module": "@jupyter-widgets/base",
          "model_name": "LayoutModel",
          "state": {
            "_model_module": "@jupyter-widgets/base",
            "_model_module_version": "1.2.0",
            "_model_name": "LayoutModel",
            "_view_count": null,
            "_view_module": "@jupyter-widgets/base",
            "_view_module_version": "1.2.0",
            "_view_name": "LayoutView",
            "align_content": null,
            "align_items": null,
            "align_self": null,
            "border": null,
            "bottom": null,
            "display": null,
            "flex": null,
            "flex_flow": null,
            "grid_area": null,
            "grid_auto_columns": null,
            "grid_auto_flow": null,
            "grid_auto_rows": null,
            "grid_column": null,
            "grid_gap": null,
            "grid_row": null,
            "grid_template_areas": null,
            "grid_template_columns": null,
            "grid_template_rows": null,
            "height": null,
            "justify_content": null,
            "justify_items": null,
            "left": null,
            "margin": null,
            "max_height": null,
            "max_width": null,
            "min_height": null,
            "min_width": null,
            "object_fit": null,
            "object_position": null,
            "order": null,
            "overflow": null,
            "overflow_x": null,
            "overflow_y": null,
            "padding": null,
            "right": null,
            "top": null,
            "visibility": null,
            "width": null
          }
        },
        "63a1def182a5493cb8b6bfdb7a615b21": {
          "model_module": "@jupyter-widgets/base",
          "model_name": "LayoutModel",
          "state": {
            "_model_module": "@jupyter-widgets/base",
            "_model_module_version": "1.2.0",
            "_model_name": "LayoutModel",
            "_view_count": null,
            "_view_module": "@jupyter-widgets/base",
            "_view_module_version": "1.2.0",
            "_view_name": "LayoutView",
            "align_content": null,
            "align_items": null,
            "align_self": null,
            "border": null,
            "bottom": null,
            "display": null,
            "flex": null,
            "flex_flow": null,
            "grid_area": null,
            "grid_auto_columns": null,
            "grid_auto_flow": null,
            "grid_auto_rows": null,
            "grid_column": null,
            "grid_gap": null,
            "grid_row": null,
            "grid_template_areas": null,
            "grid_template_columns": null,
            "grid_template_rows": null,
            "height": null,
            "justify_content": null,
            "justify_items": null,
            "left": null,
            "margin": null,
            "max_height": null,
            "max_width": null,
            "min_height": null,
            "min_width": null,
            "object_fit": null,
            "object_position": null,
            "order": null,
            "overflow": null,
            "overflow_x": null,
            "overflow_y": null,
            "padding": null,
            "right": null,
            "top": null,
            "visibility": null,
            "width": null
          }
        },
        "66d6c350dc6b4a57927aef2f4bf3065c": {
          "model_module": "@jupyter-widgets/controls",
          "model_name": "HBoxModel",
          "state": {
            "_dom_classes": [],
            "_model_module": "@jupyter-widgets/controls",
            "_model_module_version": "1.5.0",
            "_model_name": "HBoxModel",
            "_view_count": null,
            "_view_module": "@jupyter-widgets/controls",
            "_view_module_version": "1.5.0",
            "_view_name": "HBoxView",
            "box_style": "",
            "children": [
              "IPY_MODEL_712bf434e0a541a382cc040a6d2b452b",
              "IPY_MODEL_c1c34ea327024c5cbfcfb147c3b2abe4"
            ],
            "layout": "IPY_MODEL_4b718bdfdedd440a9308a585af05eaaf"
          }
        },
        "672931e8cf7c40cb8218329823311c58": {
          "model_module": "@jupyter-widgets/controls",
          "model_name": "FloatProgressModel",
          "state": {
            "_dom_classes": [],
            "_model_module": "@jupyter-widgets/controls",
            "_model_module_version": "1.5.0",
            "_model_name": "FloatProgressModel",
            "_view_count": null,
            "_view_module": "@jupyter-widgets/controls",
            "_view_module_version": "1.5.0",
            "_view_name": "ProgressView",
            "bar_style": "info",
            "description": "",
            "description_tooltip": null,
            "layout": "IPY_MODEL_923134504bcb4ca1a2e3751857285be2",
            "max": 1,
            "min": 0,
            "orientation": "horizontal",
            "style": "IPY_MODEL_e57c9c510ae24555a615ef43e7bd4ebc",
            "value": 1
          }
        },
        "678f7c3bb42549d884e3b8995dd47e81": {
          "model_module": "@jupyter-widgets/base",
          "model_name": "LayoutModel",
          "state": {
            "_model_module": "@jupyter-widgets/base",
            "_model_module_version": "1.2.0",
            "_model_name": "LayoutModel",
            "_view_count": null,
            "_view_module": "@jupyter-widgets/base",
            "_view_module_version": "1.2.0",
            "_view_name": "LayoutView",
            "align_content": null,
            "align_items": null,
            "align_self": null,
            "border": null,
            "bottom": null,
            "display": null,
            "flex": "2",
            "flex_flow": null,
            "grid_area": null,
            "grid_auto_columns": null,
            "grid_auto_flow": null,
            "grid_auto_rows": null,
            "grid_column": null,
            "grid_gap": null,
            "grid_row": null,
            "grid_template_areas": null,
            "grid_template_columns": null,
            "grid_template_rows": null,
            "height": null,
            "justify_content": null,
            "justify_items": null,
            "left": null,
            "margin": null,
            "max_height": null,
            "max_width": null,
            "min_height": null,
            "min_width": null,
            "object_fit": null,
            "object_position": null,
            "order": null,
            "overflow": null,
            "overflow_x": null,
            "overflow_y": null,
            "padding": null,
            "right": null,
            "top": null,
            "visibility": null,
            "width": null
          }
        },
        "69ba8210c0f747fe9c0b3c8df8f5ca26": {
          "model_module": "@jupyter-widgets/base",
          "model_name": "LayoutModel",
          "state": {
            "_model_module": "@jupyter-widgets/base",
            "_model_module_version": "1.2.0",
            "_model_name": "LayoutModel",
            "_view_count": null,
            "_view_module": "@jupyter-widgets/base",
            "_view_module_version": "1.2.0",
            "_view_name": "LayoutView",
            "align_content": null,
            "align_items": null,
            "align_self": null,
            "border": null,
            "bottom": null,
            "display": null,
            "flex": null,
            "flex_flow": null,
            "grid_area": null,
            "grid_auto_columns": null,
            "grid_auto_flow": null,
            "grid_auto_rows": null,
            "grid_column": null,
            "grid_gap": null,
            "grid_row": null,
            "grid_template_areas": null,
            "grid_template_columns": null,
            "grid_template_rows": null,
            "height": null,
            "justify_content": null,
            "justify_items": null,
            "left": null,
            "margin": null,
            "max_height": null,
            "max_width": null,
            "min_height": null,
            "min_width": null,
            "object_fit": null,
            "object_position": null,
            "order": null,
            "overflow": null,
            "overflow_x": null,
            "overflow_y": null,
            "padding": null,
            "right": null,
            "top": null,
            "visibility": null,
            "width": null
          }
        },
        "6b37cdaa12c74de6b86fce96c838f381": {
          "model_module": "@jupyter-widgets/base",
          "model_name": "LayoutModel",
          "state": {
            "_model_module": "@jupyter-widgets/base",
            "_model_module_version": "1.2.0",
            "_model_name": "LayoutModel",
            "_view_count": null,
            "_view_module": "@jupyter-widgets/base",
            "_view_module_version": "1.2.0",
            "_view_name": "LayoutView",
            "align_content": null,
            "align_items": null,
            "align_self": null,
            "border": null,
            "bottom": null,
            "display": "inline-flex",
            "flex": null,
            "flex_flow": "row wrap",
            "grid_area": null,
            "grid_auto_columns": null,
            "grid_auto_flow": null,
            "grid_auto_rows": null,
            "grid_column": null,
            "grid_gap": null,
            "grid_row": null,
            "grid_template_areas": null,
            "grid_template_columns": null,
            "grid_template_rows": null,
            "height": null,
            "justify_content": null,
            "justify_items": null,
            "left": null,
            "margin": null,
            "max_height": null,
            "max_width": null,
            "min_height": null,
            "min_width": null,
            "object_fit": null,
            "object_position": null,
            "order": null,
            "overflow": null,
            "overflow_x": null,
            "overflow_y": null,
            "padding": null,
            "right": null,
            "top": null,
            "visibility": null,
            "width": "100%"
          }
        },
        "712bf434e0a541a382cc040a6d2b452b": {
          "model_module": "@jupyter-widgets/controls",
          "model_name": "FloatProgressModel",
          "state": {
            "_dom_classes": [],
            "_model_module": "@jupyter-widgets/controls",
            "_model_module_version": "1.5.0",
            "_model_name": "FloatProgressModel",
            "_view_count": null,
            "_view_module": "@jupyter-widgets/controls",
            "_view_module_version": "1.5.0",
            "_view_name": "ProgressView",
            "bar_style": "",
            "description": "Finding best initial lr: 100%",
            "description_tooltip": null,
            "layout": "IPY_MODEL_12d98e263dbd4950b82e76d7c28995bd",
            "max": 100,
            "min": 0,
            "orientation": "horizontal",
            "style": "IPY_MODEL_2020dfc1254e42f8867d99877903bea5",
            "value": 100
          }
        },
        "8171c55f8f1c49f384d9f38784f22c13": {
          "model_module": "@jupyter-widgets/base",
          "model_name": "LayoutModel",
          "state": {
            "_model_module": "@jupyter-widgets/base",
            "_model_module_version": "1.2.0",
            "_model_name": "LayoutModel",
            "_view_count": null,
            "_view_module": "@jupyter-widgets/base",
            "_view_module_version": "1.2.0",
            "_view_name": "LayoutView",
            "align_content": null,
            "align_items": null,
            "align_self": null,
            "border": null,
            "bottom": null,
            "display": "inline-flex",
            "flex": null,
            "flex_flow": "row wrap",
            "grid_area": null,
            "grid_auto_columns": null,
            "grid_auto_flow": null,
            "grid_auto_rows": null,
            "grid_column": null,
            "grid_gap": null,
            "grid_row": null,
            "grid_template_areas": null,
            "grid_template_columns": null,
            "grid_template_rows": null,
            "height": null,
            "justify_content": null,
            "justify_items": null,
            "left": null,
            "margin": null,
            "max_height": null,
            "max_width": null,
            "min_height": null,
            "min_width": null,
            "object_fit": null,
            "object_position": null,
            "order": null,
            "overflow": null,
            "overflow_x": null,
            "overflow_y": null,
            "padding": null,
            "right": null,
            "top": null,
            "visibility": null,
            "width": "100%"
          }
        },
        "85d7b051ac3446d9b72a98c4c331599d": {
          "model_module": "@jupyter-widgets/base",
          "model_name": "LayoutModel",
          "state": {
            "_model_module": "@jupyter-widgets/base",
            "_model_module_version": "1.2.0",
            "_model_name": "LayoutModel",
            "_view_count": null,
            "_view_module": "@jupyter-widgets/base",
            "_view_module_version": "1.2.0",
            "_view_name": "LayoutView",
            "align_content": null,
            "align_items": null,
            "align_self": null,
            "border": null,
            "bottom": null,
            "display": null,
            "flex": null,
            "flex_flow": null,
            "grid_area": null,
            "grid_auto_columns": null,
            "grid_auto_flow": null,
            "grid_auto_rows": null,
            "grid_column": null,
            "grid_gap": null,
            "grid_row": null,
            "grid_template_areas": null,
            "grid_template_columns": null,
            "grid_template_rows": null,
            "height": null,
            "justify_content": null,
            "justify_items": null,
            "left": null,
            "margin": null,
            "max_height": null,
            "max_width": null,
            "min_height": null,
            "min_width": null,
            "object_fit": null,
            "object_position": null,
            "order": null,
            "overflow": null,
            "overflow_x": null,
            "overflow_y": null,
            "padding": null,
            "right": null,
            "top": null,
            "visibility": null,
            "width": null
          }
        },
        "923134504bcb4ca1a2e3751857285be2": {
          "model_module": "@jupyter-widgets/base",
          "model_name": "LayoutModel",
          "state": {
            "_model_module": "@jupyter-widgets/base",
            "_model_module_version": "1.2.0",
            "_model_name": "LayoutModel",
            "_view_count": null,
            "_view_module": "@jupyter-widgets/base",
            "_view_module_version": "1.2.0",
            "_view_name": "LayoutView",
            "align_content": null,
            "align_items": null,
            "align_self": null,
            "border": null,
            "bottom": null,
            "display": null,
            "flex": null,
            "flex_flow": null,
            "grid_area": null,
            "grid_auto_columns": null,
            "grid_auto_flow": null,
            "grid_auto_rows": null,
            "grid_column": null,
            "grid_gap": null,
            "grid_row": null,
            "grid_template_areas": null,
            "grid_template_columns": null,
            "grid_template_rows": null,
            "height": null,
            "justify_content": null,
            "justify_items": null,
            "left": null,
            "margin": null,
            "max_height": null,
            "max_width": null,
            "min_height": null,
            "min_width": null,
            "object_fit": null,
            "object_position": null,
            "order": null,
            "overflow": null,
            "overflow_x": null,
            "overflow_y": null,
            "padding": null,
            "right": null,
            "top": null,
            "visibility": null,
            "width": null
          }
        },
        "964d4acb696540afb93260770ae6ce2c": {
          "model_module": "@jupyter-widgets/controls",
          "model_name": "HTMLModel",
          "state": {
            "_dom_classes": [],
            "_model_module": "@jupyter-widgets/controls",
            "_model_module_version": "1.5.0",
            "_model_name": "HTMLModel",
            "_view_count": null,
            "_view_module": "@jupyter-widgets/controls",
            "_view_module_version": "1.5.0",
            "_view_name": "HTMLView",
            "description": "",
            "description_tooltip": null,
            "layout": "IPY_MODEL_b2db4f9b5ecd437586c1153c3e21e661",
            "placeholder": "​",
            "style": "IPY_MODEL_1c1c1eba0d5e436ba66de315449294e3",
            "value": " 6/6 [00:04&lt;00:00,  1.62it/s]"
          }
        },
        "9ba43c03f1964527b1d8e3487abd2fad": {
          "model_module": "@jupyter-widgets/controls",
          "model_name": "HTMLModel",
          "state": {
            "_dom_classes": [],
            "_model_module": "@jupyter-widgets/controls",
            "_model_module_version": "1.5.0",
            "_model_name": "HTMLModel",
            "_view_count": null,
            "_view_module": "@jupyter-widgets/controls",
            "_view_module_version": "1.5.0",
            "_view_name": "HTMLView",
            "description": "",
            "description_tooltip": null,
            "layout": "IPY_MODEL_26df9334360a4e9e96a77e8cd4942809",
            "placeholder": "​",
            "style": "IPY_MODEL_1a5ed5e067344488a536d7895d089b6f",
            "value": " 2640404480/? [02:20&lt;00:00, 20702277.44it/s]"
          }
        },
        "a8a0c1847cec4eef98264aea6b42308c": {
          "model_module": "@jupyter-widgets/controls",
          "model_name": "HTMLModel",
          "state": {
            "_dom_classes": [],
            "_model_module": "@jupyter-widgets/controls",
            "_model_module_version": "1.5.0",
            "_model_name": "HTMLModel",
            "_view_count": null,
            "_view_module": "@jupyter-widgets/controls",
            "_view_module_version": "1.5.0",
            "_view_name": "HTMLView",
            "description": "",
            "description_tooltip": null,
            "layout": "IPY_MODEL_69ba8210c0f747fe9c0b3c8df8f5ca26",
            "placeholder": "​",
            "style": "IPY_MODEL_b88870fb6ffe483fa6fc02d5e729949e",
            "value": " 6/6 [00:04&lt;00:00,  1.62it/s]"
          }
        },
        "b2db4f9b5ecd437586c1153c3e21e661": {
          "model_module": "@jupyter-widgets/base",
          "model_name": "LayoutModel",
          "state": {
            "_model_module": "@jupyter-widgets/base",
            "_model_module_version": "1.2.0",
            "_model_name": "LayoutModel",
            "_view_count": null,
            "_view_module": "@jupyter-widgets/base",
            "_view_module_version": "1.2.0",
            "_view_name": "LayoutView",
            "align_content": null,
            "align_items": null,
            "align_self": null,
            "border": null,
            "bottom": null,
            "display": null,
            "flex": null,
            "flex_flow": null,
            "grid_area": null,
            "grid_auto_columns": null,
            "grid_auto_flow": null,
            "grid_auto_rows": null,
            "grid_column": null,
            "grid_gap": null,
            "grid_row": null,
            "grid_template_areas": null,
            "grid_template_columns": null,
            "grid_template_rows": null,
            "height": null,
            "justify_content": null,
            "justify_items": null,
            "left": null,
            "margin": null,
            "max_height": null,
            "max_width": null,
            "min_height": null,
            "min_width": null,
            "object_fit": null,
            "object_position": null,
            "order": null,
            "overflow": null,
            "overflow_x": null,
            "overflow_y": null,
            "padding": null,
            "right": null,
            "top": null,
            "visibility": null,
            "width": null
          }
        },
        "b88870fb6ffe483fa6fc02d5e729949e": {
          "model_module": "@jupyter-widgets/controls",
          "model_name": "DescriptionStyleModel",
          "state": {
            "_model_module": "@jupyter-widgets/controls",
            "_model_module_version": "1.5.0",
            "_model_name": "DescriptionStyleModel",
            "_view_count": null,
            "_view_module": "@jupyter-widgets/base",
            "_view_module_version": "1.2.0",
            "_view_name": "StyleView",
            "description_width": ""
          }
        },
        "ba588cacf6c94025892f5257e83322cd": {
          "model_module": "@jupyter-widgets/controls",
          "model_name": "DescriptionStyleModel",
          "state": {
            "_model_module": "@jupyter-widgets/controls",
            "_model_module_version": "1.5.0",
            "_model_name": "DescriptionStyleModel",
            "_view_count": null,
            "_view_module": "@jupyter-widgets/base",
            "_view_module_version": "1.2.0",
            "_view_name": "StyleView",
            "description_width": ""
          }
        },
        "bcd3bff210174fbbaaf6459ff704eefe": {
          "model_module": "@jupyter-widgets/base",
          "model_name": "LayoutModel",
          "state": {
            "_model_module": "@jupyter-widgets/base",
            "_model_module_version": "1.2.0",
            "_model_name": "LayoutModel",
            "_view_count": null,
            "_view_module": "@jupyter-widgets/base",
            "_view_module_version": "1.2.0",
            "_view_name": "LayoutView",
            "align_content": null,
            "align_items": null,
            "align_self": null,
            "border": null,
            "bottom": null,
            "display": null,
            "flex": null,
            "flex_flow": null,
            "grid_area": null,
            "grid_auto_columns": null,
            "grid_auto_flow": null,
            "grid_auto_rows": null,
            "grid_column": null,
            "grid_gap": null,
            "grid_row": null,
            "grid_template_areas": null,
            "grid_template_columns": null,
            "grid_template_rows": null,
            "height": null,
            "justify_content": null,
            "justify_items": null,
            "left": null,
            "margin": null,
            "max_height": null,
            "max_width": null,
            "min_height": null,
            "min_width": null,
            "object_fit": null,
            "object_position": null,
            "order": null,
            "overflow": null,
            "overflow_x": null,
            "overflow_y": null,
            "padding": null,
            "right": null,
            "top": null,
            "visibility": null,
            "width": null
          }
        },
        "c0c72566cfd7404f9e81e6efc397dc8e": {
          "model_module": "@jupyter-widgets/controls",
          "model_name": "HTMLModel",
          "state": {
            "_dom_classes": [],
            "_model_module": "@jupyter-widgets/controls",
            "_model_module_version": "1.5.0",
            "_model_name": "HTMLModel",
            "_view_count": null,
            "_view_module": "@jupyter-widgets/controls",
            "_view_module_version": "1.5.0",
            "_view_name": "HTMLView",
            "description": "",
            "description_tooltip": null,
            "layout": "IPY_MODEL_53d6d9ee2c2f493a8bfe5269490736d5",
            "placeholder": "​",
            "style": "IPY_MODEL_ba588cacf6c94025892f5257e83322cd",
            "value": " 2/2 [00:07&lt;00:00,  4.95s/it]"
          }
        },
        "c1c34ea327024c5cbfcfb147c3b2abe4": {
          "model_module": "@jupyter-widgets/controls",
          "model_name": "HTMLModel",
          "state": {
            "_dom_classes": [],
            "_model_module": "@jupyter-widgets/controls",
            "_model_module_version": "1.5.0",
            "_model_name": "HTMLModel",
            "_view_count": null,
            "_view_module": "@jupyter-widgets/controls",
            "_view_module_version": "1.5.0",
            "_view_name": "HTMLView",
            "description": "",
            "description_tooltip": null,
            "layout": "IPY_MODEL_bcd3bff210174fbbaaf6459ff704eefe",
            "placeholder": "​",
            "style": "IPY_MODEL_f5db69016961498ca526b0f389677491",
            "value": " 100/100 [02:00&lt;00:00,  1.14s/it]"
          }
        },
        "e0bd1cbc38b34d2cb633966565325b7d": {
          "model_module": "@jupyter-widgets/controls",
          "model_name": "HBoxModel",
          "state": {
            "_dom_classes": [],
            "_model_module": "@jupyter-widgets/controls",
            "_model_module_version": "1.5.0",
            "_model_name": "HBoxModel",
            "_view_count": null,
            "_view_module": "@jupyter-widgets/controls",
            "_view_module_version": "1.5.0",
            "_view_name": "HBoxView",
            "box_style": "",
            "children": [
              "IPY_MODEL_e3c18fc7317d44d2944876185d52127a",
              "IPY_MODEL_964d4acb696540afb93260770ae6ce2c"
            ],
            "layout": "IPY_MODEL_6b37cdaa12c74de6b86fce96c838f381"
          }
        },
        "e3917ebbc51e487481f66c8df68316ce": {
          "model_module": "@jupyter-widgets/controls",
          "model_name": "FloatProgressModel",
          "state": {
            "_dom_classes": [],
            "_model_module": "@jupyter-widgets/controls",
            "_model_module_version": "1.5.0",
            "_model_name": "FloatProgressModel",
            "_view_count": null,
            "_view_module": "@jupyter-widgets/controls",
            "_view_module_version": "1.5.0",
            "_view_name": "ProgressView",
            "bar_style": "info",
            "description": "Epoch 3:  76%",
            "description_tooltip": null,
            "layout": "IPY_MODEL_e647d0aeeba648d5860ba2c68ad37ba1",
            "max": 131,
            "min": 0,
            "orientation": "horizontal",
            "style": "IPY_MODEL_01c7832e21554cfda7c0b759a59f4063",
            "value": 99
          }
        },
        "e3c18fc7317d44d2944876185d52127a": {
          "model_module": "@jupyter-widgets/controls",
          "model_name": "FloatProgressModel",
          "state": {
            "_dom_classes": [],
            "_model_module": "@jupyter-widgets/controls",
            "_model_module_version": "1.5.0",
            "_model_name": "FloatProgressModel",
            "_view_count": null,
            "_view_module": "@jupyter-widgets/controls",
            "_view_module_version": "1.5.0",
            "_view_name": "ProgressView",
            "bar_style": "info",
            "description": "Validating: 100%",
            "description_tooltip": null,
            "layout": "IPY_MODEL_678f7c3bb42549d884e3b8995dd47e81",
            "max": 1,
            "min": 0,
            "orientation": "horizontal",
            "style": "IPY_MODEL_11759fc12080455094624b153eb35dce",
            "value": 1
          }
        },
        "e57c9c510ae24555a615ef43e7bd4ebc": {
          "model_module": "@jupyter-widgets/controls",
          "model_name": "ProgressStyleModel",
          "state": {
            "_model_module": "@jupyter-widgets/controls",
            "_model_module_version": "1.5.0",
            "_model_name": "ProgressStyleModel",
            "_view_count": null,
            "_view_module": "@jupyter-widgets/base",
            "_view_module_version": "1.2.0",
            "_view_name": "StyleView",
            "bar_color": null,
            "description_width": "initial"
          }
        },
        "e611467f4c544611aade87ee71d60914": {
          "model_module": "@jupyter-widgets/base",
          "model_name": "LayoutModel",
          "state": {
            "_model_module": "@jupyter-widgets/base",
            "_model_module_version": "1.2.0",
            "_model_name": "LayoutModel",
            "_view_count": null,
            "_view_module": "@jupyter-widgets/base",
            "_view_module_version": "1.2.0",
            "_view_name": "LayoutView",
            "align_content": null,
            "align_items": null,
            "align_self": null,
            "border": null,
            "bottom": null,
            "display": "inline-flex",
            "flex": null,
            "flex_flow": "row wrap",
            "grid_area": null,
            "grid_auto_columns": null,
            "grid_auto_flow": null,
            "grid_auto_rows": null,
            "grid_column": null,
            "grid_gap": null,
            "grid_row": null,
            "grid_template_areas": null,
            "grid_template_columns": null,
            "grid_template_rows": null,
            "height": null,
            "justify_content": null,
            "justify_items": null,
            "left": null,
            "margin": null,
            "max_height": null,
            "max_width": null,
            "min_height": null,
            "min_width": null,
            "object_fit": null,
            "object_position": null,
            "order": null,
            "overflow": null,
            "overflow_x": null,
            "overflow_y": null,
            "padding": null,
            "right": null,
            "top": null,
            "visibility": null,
            "width": "100%"
          }
        },
        "e647d0aeeba648d5860ba2c68ad37ba1": {
          "model_module": "@jupyter-widgets/base",
          "model_name": "LayoutModel",
          "state": {
            "_model_module": "@jupyter-widgets/base",
            "_model_module_version": "1.2.0",
            "_model_name": "LayoutModel",
            "_view_count": null,
            "_view_module": "@jupyter-widgets/base",
            "_view_module_version": "1.2.0",
            "_view_name": "LayoutView",
            "align_content": null,
            "align_items": null,
            "align_self": null,
            "border": null,
            "bottom": null,
            "display": null,
            "flex": "2",
            "flex_flow": null,
            "grid_area": null,
            "grid_auto_columns": null,
            "grid_auto_flow": null,
            "grid_auto_rows": null,
            "grid_column": null,
            "grid_gap": null,
            "grid_row": null,
            "grid_template_areas": null,
            "grid_template_columns": null,
            "grid_template_rows": null,
            "height": null,
            "justify_content": null,
            "justify_items": null,
            "left": null,
            "margin": null,
            "max_height": null,
            "max_width": null,
            "min_height": null,
            "min_width": null,
            "object_fit": null,
            "object_position": null,
            "order": null,
            "overflow": null,
            "overflow_x": null,
            "overflow_y": null,
            "padding": null,
            "right": null,
            "top": null,
            "visibility": null,
            "width": null
          }
        },
        "eee8913da3b04fcaa27093426b25fd38": {
          "model_module": "@jupyter-widgets/controls",
          "model_name": "ProgressStyleModel",
          "state": {
            "_model_module": "@jupyter-widgets/controls",
            "_model_module_version": "1.5.0",
            "_model_name": "ProgressStyleModel",
            "_view_count": null,
            "_view_module": "@jupyter-widgets/base",
            "_view_module_version": "1.2.0",
            "_view_name": "StyleView",
            "bar_color": null,
            "description_width": "initial"
          }
        },
        "f5db69016961498ca526b0f389677491": {
          "model_module": "@jupyter-widgets/controls",
          "model_name": "DescriptionStyleModel",
          "state": {
            "_model_module": "@jupyter-widgets/controls",
            "_model_module_version": "1.5.0",
            "_model_name": "DescriptionStyleModel",
            "_view_count": null,
            "_view_module": "@jupyter-widgets/base",
            "_view_module_version": "1.2.0",
            "_view_name": "StyleView",
            "description_width": ""
          }
        },
        "fd93fcfb47284680a4ae25178dd951fa": {
          "model_module": "@jupyter-widgets/controls",
          "model_name": "HBoxModel",
          "state": {
            "_dom_classes": [],
            "_model_module": "@jupyter-widgets/controls",
            "_model_module_version": "1.5.0",
            "_model_name": "HBoxModel",
            "_view_count": null,
            "_view_module": "@jupyter-widgets/controls",
            "_view_module_version": "1.5.0",
            "_view_name": "HBoxView",
            "box_style": "",
            "children": [
              "IPY_MODEL_3733cce25e7c40cb83c7424036e4f372",
              "IPY_MODEL_c0c72566cfd7404f9e81e6efc397dc8e"
            ],
            "layout": "IPY_MODEL_8171c55f8f1c49f384d9f38784f22c13"
          }
        },
        "fe9475251c4042aca5c598b33549aa40": {
          "model_module": "@jupyter-widgets/controls",
          "model_name": "DescriptionStyleModel",
          "state": {
            "_model_module": "@jupyter-widgets/controls",
            "_model_module_version": "1.5.0",
            "_model_name": "DescriptionStyleModel",
            "_view_count": null,
            "_view_module": "@jupyter-widgets/base",
            "_view_module_version": "1.2.0",
            "_view_name": "StyleView",
            "description_width": ""
          }
        }
      }
    }
  },
  "nbformat": 4,
  "nbformat_minor": 0
}
